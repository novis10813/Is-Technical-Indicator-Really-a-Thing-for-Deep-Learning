{
 "cells": [
  {
   "cell_type": "code",
   "execution_count": 23,
   "metadata": {},
   "outputs": [],
   "source": [
    "import pandas as pd\n",
    "import matplotlib.pyplot as plt\n",
    "import numpy as np\n",
    "from utils.data_preprocess import *"
   ]
  },
  {
   "cell_type": "code",
   "execution_count": 2,
   "metadata": {},
   "outputs": [],
   "source": [
    "df = pd.read_csv('./data/ETHBTC-5m-data.csv')"
   ]
  },
  {
   "cell_type": "markdown",
   "metadata": {},
   "source": [
    "# Data Description"
   ]
  },
  {
   "cell_type": "code",
   "execution_count": 3,
   "metadata": {},
   "outputs": [
    {
     "data": {
      "text/html": [
       "<div>\n",
       "<style scoped>\n",
       "    .dataframe tbody tr th:only-of-type {\n",
       "        vertical-align: middle;\n",
       "    }\n",
       "\n",
       "    .dataframe tbody tr th {\n",
       "        vertical-align: top;\n",
       "    }\n",
       "\n",
       "    .dataframe thead th {\n",
       "        text-align: right;\n",
       "    }\n",
       "</style>\n",
       "<table border=\"1\" class=\"dataframe\">\n",
       "  <thead>\n",
       "    <tr style=\"text-align: right;\">\n",
       "      <th></th>\n",
       "      <th>Open</th>\n",
       "      <th>High</th>\n",
       "      <th>Low</th>\n",
       "      <th>Close</th>\n",
       "      <th>Volume</th>\n",
       "      <th>Close_time</th>\n",
       "      <th>Quote_av</th>\n",
       "      <th>Trades</th>\n",
       "      <th>Tb_base_av</th>\n",
       "      <th>Tb_quote_av</th>\n",
       "      <th>Ignore</th>\n",
       "    </tr>\n",
       "  </thead>\n",
       "  <tbody>\n",
       "    <tr>\n",
       "      <th>count</th>\n",
       "      <td>453585.000000</td>\n",
       "      <td>453585.000000</td>\n",
       "      <td>453585.000000</td>\n",
       "      <td>453585.000000</td>\n",
       "      <td>453585.000000</td>\n",
       "      <td>4.535850e+05</td>\n",
       "      <td>453585.000000</td>\n",
       "      <td>453585.000000</td>\n",
       "      <td>453585.000000</td>\n",
       "      <td>453585.000000</td>\n",
       "      <td>453585.000000</td>\n",
       "    </tr>\n",
       "    <tr>\n",
       "      <th>mean</th>\n",
       "      <td>0.043491</td>\n",
       "      <td>0.043558</td>\n",
       "      <td>0.043424</td>\n",
       "      <td>0.043491</td>\n",
       "      <td>718.653703</td>\n",
       "      <td>1.568325e+12</td>\n",
       "      <td>27.862848</td>\n",
       "      <td>679.324755</td>\n",
       "      <td>360.625973</td>\n",
       "      <td>13.966179</td>\n",
       "      <td>12795.232401</td>\n",
       "    </tr>\n",
       "    <tr>\n",
       "      <th>std</th>\n",
       "      <td>0.021648</td>\n",
       "      <td>0.021693</td>\n",
       "      <td>0.021603</td>\n",
       "      <td>0.021648</td>\n",
       "      <td>910.194591</td>\n",
       "      <td>3.941484e+10</td>\n",
       "      <td>33.870935</td>\n",
       "      <td>698.043517</td>\n",
       "      <td>485.953773</td>\n",
       "      <td>17.743429</td>\n",
       "      <td>51035.763316</td>\n",
       "    </tr>\n",
       "    <tr>\n",
       "      <th>min</th>\n",
       "      <td>0.016169</td>\n",
       "      <td>0.016176</td>\n",
       "      <td>0.016150</td>\n",
       "      <td>0.016167</td>\n",
       "      <td>0.000000</td>\n",
       "      <td>1.500005e+12</td>\n",
       "      <td>0.000000</td>\n",
       "      <td>0.000000</td>\n",
       "      <td>0.000000</td>\n",
       "      <td>0.000000</td>\n",
       "      <td>0.000000</td>\n",
       "    </tr>\n",
       "    <tr>\n",
       "      <th>25%</th>\n",
       "      <td>0.026324</td>\n",
       "      <td>0.026366</td>\n",
       "      <td>0.026277</td>\n",
       "      <td>0.026323</td>\n",
       "      <td>265.050000</td>\n",
       "      <td>1.534217e+12</td>\n",
       "      <td>9.575858</td>\n",
       "      <td>305.000000</td>\n",
       "      <td>124.415000</td>\n",
       "      <td>4.532919</td>\n",
       "      <td>0.000000</td>\n",
       "    </tr>\n",
       "    <tr>\n",
       "      <th>50%</th>\n",
       "      <td>0.033906</td>\n",
       "      <td>0.033944</td>\n",
       "      <td>0.033868</td>\n",
       "      <td>0.033906</td>\n",
       "      <td>474.836000</td>\n",
       "      <td>1.568363e+12</td>\n",
       "      <td>18.389136</td>\n",
       "      <td>480.000000</td>\n",
       "      <td>231.883000</td>\n",
       "      <td>9.032781</td>\n",
       "      <td>0.000000</td>\n",
       "    </tr>\n",
       "    <tr>\n",
       "      <th>75%</th>\n",
       "      <td>0.063200</td>\n",
       "      <td>0.063290</td>\n",
       "      <td>0.063113</td>\n",
       "      <td>0.063200</td>\n",
       "      <td>849.491000</td>\n",
       "      <td>1.602451e+12</td>\n",
       "      <td>33.505782</td>\n",
       "      <td>820.000000</td>\n",
       "      <td>425.385000</td>\n",
       "      <td>16.856235</td>\n",
       "      <td>0.000000</td>\n",
       "    </tr>\n",
       "    <tr>\n",
       "      <th>max</th>\n",
       "      <td>0.123640</td>\n",
       "      <td>0.123799</td>\n",
       "      <td>0.122851</td>\n",
       "      <td>0.123511</td>\n",
       "      <td>42160.044000</td>\n",
       "      <td>1.636550e+12</td>\n",
       "      <td>1519.571818</td>\n",
       "      <td>26814.000000</td>\n",
       "      <td>25220.191000</td>\n",
       "      <td>734.526422</td>\n",
       "      <td>548463.569977</td>\n",
       "    </tr>\n",
       "  </tbody>\n",
       "</table>\n",
       "</div>"
      ],
      "text/plain": [
       "                Open           High            Low          Close  \\\n",
       "count  453585.000000  453585.000000  453585.000000  453585.000000   \n",
       "mean        0.043491       0.043558       0.043424       0.043491   \n",
       "std         0.021648       0.021693       0.021603       0.021648   \n",
       "min         0.016169       0.016176       0.016150       0.016167   \n",
       "25%         0.026324       0.026366       0.026277       0.026323   \n",
       "50%         0.033906       0.033944       0.033868       0.033906   \n",
       "75%         0.063200       0.063290       0.063113       0.063200   \n",
       "max         0.123640       0.123799       0.122851       0.123511   \n",
       "\n",
       "              Volume    Close_time       Quote_av         Trades  \\\n",
       "count  453585.000000  4.535850e+05  453585.000000  453585.000000   \n",
       "mean      718.653703  1.568325e+12      27.862848     679.324755   \n",
       "std       910.194591  3.941484e+10      33.870935     698.043517   \n",
       "min         0.000000  1.500005e+12       0.000000       0.000000   \n",
       "25%       265.050000  1.534217e+12       9.575858     305.000000   \n",
       "50%       474.836000  1.568363e+12      18.389136     480.000000   \n",
       "75%       849.491000  1.602451e+12      33.505782     820.000000   \n",
       "max     42160.044000  1.636550e+12    1519.571818   26814.000000   \n",
       "\n",
       "          Tb_base_av    Tb_quote_av         Ignore  \n",
       "count  453585.000000  453585.000000  453585.000000  \n",
       "mean      360.625973      13.966179   12795.232401  \n",
       "std       485.953773      17.743429   51035.763316  \n",
       "min         0.000000       0.000000       0.000000  \n",
       "25%       124.415000       4.532919       0.000000  \n",
       "50%       231.883000       9.032781       0.000000  \n",
       "75%       425.385000      16.856235       0.000000  \n",
       "max     25220.191000     734.526422  548463.569977  "
      ]
     },
     "execution_count": 3,
     "metadata": {},
     "output_type": "execute_result"
    }
   ],
   "source": [
    "df.describe()"
   ]
  },
  {
   "cell_type": "code",
   "execution_count": 4,
   "metadata": {},
   "outputs": [
    {
     "name": "stdout",
     "output_type": "stream",
     "text": [
      "<class 'pandas.core.frame.DataFrame'>\n",
      "RangeIndex: 453585 entries, 0 to 453584\n",
      "Data columns (total 12 columns):\n",
      " #   Column       Non-Null Count   Dtype  \n",
      "---  ------       --------------   -----  \n",
      " 0   Timestamp    453585 non-null  object \n",
      " 1   Open         453585 non-null  float64\n",
      " 2   High         453585 non-null  float64\n",
      " 3   Low          453585 non-null  float64\n",
      " 4   Close        453585 non-null  float64\n",
      " 5   Volume       453585 non-null  float64\n",
      " 6   Close_time   453585 non-null  float64\n",
      " 7   Quote_av     453585 non-null  float64\n",
      " 8   Trades       453585 non-null  float64\n",
      " 9   Tb_base_av   453585 non-null  float64\n",
      " 10  Tb_quote_av  453585 non-null  float64\n",
      " 11  Ignore       453585 non-null  float64\n",
      "dtypes: float64(11), object(1)\n",
      "memory usage: 41.5+ MB\n"
     ]
    }
   ],
   "source": [
    "df.info()"
   ]
  },
  {
   "cell_type": "code",
   "execution_count": 5,
   "metadata": {},
   "outputs": [
    {
     "data": {
      "text/plain": [
       "Text(0.5, 0, 'Time')"
      ]
     },
     "execution_count": 5,
     "metadata": {},
     "output_type": "execute_result"
    },
    {
     "data": {
      "image/png": "[encoded data removed]",
      "text/plain": [
       "<Figure size 720x504 with 1 Axes>"
      ]
     },
     "metadata": {
      "needs_background": "light"
     },
     "output_type": "display_data"
    }
   ],
   "source": [
    "plt.figure(figsize=(10, 7))\n",
    "plt.plot(df.Close.values)\n",
    "plt.ylabel('ETH/BTC')\n",
    "plt.xlabel('Time')"
   ]
  },
  {
   "cell_type": "markdown",
   "metadata": {},
   "source": [
    "# Caculate Return"
   ]
  },
  {
   "cell_type": "code",
   "execution_count": 6,
   "metadata": {},
   "outputs": [],
   "source": [
    "raw_data = DataLabeling(df, 24)\n",
    "target_data = raw_data.labelled_data"
   ]
  },
  {
   "cell_type": "code",
   "execution_count": 7,
   "metadata": {},
   "outputs": [],
   "source": [
    "target_data['long'] = np.where(target_data['Label'] == 1, 1, 0)\n",
    "target_data['short'] = np.where(target_data['Label'] == 2, -1, 0)"
   ]
  },
  {
   "cell_type": "code",
   "execution_count": 27,
   "metadata": {},
   "outputs": [
    {
     "ename": "TypeError",
     "evalue": "scatter() missing 1 required positional argument: 'y'",
     "output_type": "error",
     "traceback": [
      "\u001b[1;31m---------------------------------------------------------------------------\u001b[0m",
      "\u001b[1;31mTypeError\u001b[0m                                 Traceback (most recent call last)",
      "\u001b[1;32m~\\AppData\\Local\\Temp/ipykernel_13596/3025423156.py\u001b[0m in \u001b[0;36m<module>\u001b[1;34m\u001b[0m\n\u001b[0;32m      1\u001b[0m \u001b[0mplt\u001b[0m\u001b[1;33m.\u001b[0m\u001b[0mplot\u001b[0m\u001b[1;33m(\u001b[0m\u001b[0mtarget_data\u001b[0m\u001b[1;33m[\u001b[0m\u001b[1;34m'Close'\u001b[0m\u001b[1;33m]\u001b[0m\u001b[1;33m)\u001b[0m\u001b[1;33m\u001b[0m\u001b[1;33m\u001b[0m\u001b[0m\n\u001b[1;32m----> 2\u001b[1;33m \u001b[0mplt\u001b[0m\u001b[1;33m.\u001b[0m\u001b[0mscatter\u001b[0m\u001b[1;33m(\u001b[0m\u001b[0mtarget_data\u001b[0m\u001b[1;33m[\u001b[0m\u001b[1;34m'long'\u001b[0m\u001b[1;33m]\u001b[0m\u001b[1;33m,\u001b[0m \u001b[0mc\u001b[0m\u001b[1;33m=\u001b[0m\u001b[1;34m'green'\u001b[0m\u001b[1;33m)\u001b[0m\u001b[1;33m\u001b[0m\u001b[1;33m\u001b[0m\u001b[0m\n\u001b[0m\u001b[0;32m      3\u001b[0m \u001b[0mplt\u001b[0m\u001b[1;33m.\u001b[0m\u001b[0mscatter\u001b[0m\u001b[1;33m(\u001b[0m\u001b[0mtarget_data\u001b[0m\u001b[1;33m[\u001b[0m\u001b[1;34m'short'\u001b[0m\u001b[1;33m]\u001b[0m\u001b[1;33m,\u001b[0m \u001b[0mc\u001b[0m\u001b[1;33m=\u001b[0m\u001b[1;34m'red'\u001b[0m\u001b[1;33m)\u001b[0m\u001b[1;33m\u001b[0m\u001b[1;33m\u001b[0m\u001b[0m\n\u001b[0;32m      4\u001b[0m \u001b[1;31m#rotate label if too long\u001b[0m\u001b[1;33m\u001b[0m\u001b[1;33m\u001b[0m\u001b[1;33m\u001b[0m\u001b[0m\n\u001b[0;32m      5\u001b[0m \u001b[0mplt\u001b[0m\u001b[1;33m.\u001b[0m\u001b[0mxticks\u001b[0m\u001b[1;33m(\u001b[0m\u001b[0mrotation\u001b[0m\u001b[1;33m=\u001b[0m\u001b[1;36m60\u001b[0m\u001b[1;33m)\u001b[0m\u001b[1;33m\u001b[0m\u001b[1;33m\u001b[0m\u001b[0m\n",
      "\u001b[1;31mTypeError\u001b[0m: scatter() missing 1 required positional argument: 'y'"
     ]
    }
   ],
   "source": [
    "plt.plot(target_data['Close'])\n",
    "plt.scatter(target_data['long'], c='green')\n",
    "plt.scatter(target_data['short'], c='red')\n",
    "#rotate label if too long\n",
    "plt.xticks(rotation=60)\n",
    "plt.show()"
   ]
  },
  {
   "cell_type": "code",
   "execution_count": 9,
   "metadata": {},
   "outputs": [],
   "source": [
    "Return = df.Close.pct_change(1)"
   ]
  },
  {
   "cell_type": "code",
   "execution_count": 10,
   "metadata": {},
   "outputs": [
    {
     "data": {
      "text/plain": [
       "0              NaN\n",
       "1         0.000012\n",
       "2         0.079987\n",
       "3        -0.014722\n",
       "4         0.010243\n",
       "            ...   \n",
       "453580    0.000550\n",
       "453581   -0.000395\n",
       "453582    0.001269\n",
       "453583    0.000704\n",
       "453584    0.000056\n",
       "Name: Close, Length: 453585, dtype: float64"
      ]
     },
     "execution_count": 10,
     "metadata": {},
     "output_type": "execute_result"
    }
   ],
   "source": [
    "Return"
   ]
  },
  {
   "cell_type": "code",
   "execution_count": 11,
   "metadata": {},
   "outputs": [],
   "source": [
    "cumulative_return = (Return + 1).cumprod()"
   ]
  },
  {
   "cell_type": "code",
   "execution_count": 12,
   "metadata": {},
   "outputs": [
    {
     "data": {
      "image/png": "[encoded data removed]",
      "text/plain": [
       "<Figure size 720x504 with 1 Axes>"
      ]
     },
     "metadata": {
      "needs_background": "light"
     },
     "output_type": "display_data"
    }
   ],
   "source": [
    "fig = plt.figure(figsize=(10, 7))\n",
    "plt.plot(cumulative_return)\n",
    "plt.xlabel('Time')\n",
    "plt.ylabel('price')\n",
    "plt.title('ETH/BTC cumulative return')\n",
    "plt.show()"
   ]
  },
  {
   "cell_type": "code",
   "execution_count": null,
   "metadata": {},
   "outputs": [],
   "source": []
  }
 ],
 "metadata": {
  "interpreter": {
   "hash": "ac3da779536756720bc930bbdcbe3b303a716c4190960bb8b007750e7b6b7c5d"
  },
  "kernelspec": {
   "display_name": "Python 3.7.6 64-bit",
   "language": "python",
   "name": "python3"
  },
  "language_info": {
   "codemirror_mode": {
    "name": "ipython",
    "version": 3
   },
   "file_extension": ".py",
   "mimetype": "text/x-python",
   "name": "python",
   "nbconvert_exporter": "python",
   "pygments_lexer": "ipython3",
   "version": "3.7.6"
  },
  "orig_nbformat": 4
 },
 "nbformat": 4,
 "nbformat_minor": 2
}
