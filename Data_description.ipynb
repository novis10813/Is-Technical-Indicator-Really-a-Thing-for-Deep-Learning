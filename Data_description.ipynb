{
 "cells": [
  {
   "cell_type": "code",
   "execution_count": 1,
   "metadata": {},
   "outputs": [],
   "source": [
    "import pandas as pd\n",
    "import matplotlib.pyplot as plt\n",
    "import numpy as np"
   ]
  },
  {
   "cell_type": "code",
   "execution_count": 2,
   "metadata": {},
   "outputs": [
    {
     "data": {
      "text/html": [
       "<div>\n",
       "<style scoped>\n",
       "    .dataframe tbody tr th:only-of-type {\n",
       "        vertical-align: middle;\n",
       "    }\n",
       "\n",
       "    .dataframe tbody tr th {\n",
       "        vertical-align: top;\n",
       "    }\n",
       "\n",
       "    .dataframe thead th {\n",
       "        text-align: right;\n",
       "    }\n",
       "</style>\n",
       "<table border=\"1\" class=\"dataframe\">\n",
       "  <thead>\n",
       "    <tr style=\"text-align: right;\">\n",
       "      <th></th>\n",
       "      <th>Timestamp</th>\n",
       "      <th>Open</th>\n",
       "      <th>High</th>\n",
       "      <th>Low</th>\n",
       "      <th>Close</th>\n",
       "      <th>Volume</th>\n",
       "      <th>Close_time</th>\n",
       "      <th>Quote_av</th>\n",
       "      <th>Trades</th>\n",
       "      <th>Tb_base_av</th>\n",
       "      <th>Tb_quote_av</th>\n",
       "      <th>Ignore</th>\n",
       "    </tr>\n",
       "  </thead>\n",
       "  <tbody>\n",
       "    <tr>\n",
       "      <th>0</th>\n",
       "      <td>2017-07-14 04:00:00</td>\n",
       "      <td>0.080000</td>\n",
       "      <td>0.080000</td>\n",
       "      <td>0.080000</td>\n",
       "      <td>0.080000</td>\n",
       "      <td>0.726</td>\n",
       "      <td>1.500005e+12</td>\n",
       "      <td>0.058080</td>\n",
       "      <td>6.0</td>\n",
       "      <td>0.000</td>\n",
       "      <td>0.000000</td>\n",
       "      <td>22435.373864</td>\n",
       "    </tr>\n",
       "    <tr>\n",
       "      <th>1</th>\n",
       "      <td>2017-07-14 04:05:00</td>\n",
       "      <td>0.080000</td>\n",
       "      <td>0.080001</td>\n",
       "      <td>0.080000</td>\n",
       "      <td>0.080001</td>\n",
       "      <td>3.347</td>\n",
       "      <td>1.500005e+12</td>\n",
       "      <td>0.267760</td>\n",
       "      <td>9.0</td>\n",
       "      <td>0.000</td>\n",
       "      <td>0.000000</td>\n",
       "      <td>22447.699705</td>\n",
       "    </tr>\n",
       "    <tr>\n",
       "      <th>2</th>\n",
       "      <td>2017-07-14 04:10:00</td>\n",
       "      <td>0.080001</td>\n",
       "      <td>0.086400</td>\n",
       "      <td>0.080001</td>\n",
       "      <td>0.086400</td>\n",
       "      <td>4.679</td>\n",
       "      <td>1.500006e+12</td>\n",
       "      <td>0.402434</td>\n",
       "      <td>11.0</td>\n",
       "      <td>3.268</td>\n",
       "      <td>0.282355</td>\n",
       "      <td>22463.043126</td>\n",
       "    </tr>\n",
       "    <tr>\n",
       "      <th>3</th>\n",
       "      <td>2017-07-14 04:15:00</td>\n",
       "      <td>0.085289</td>\n",
       "      <td>0.085620</td>\n",
       "      <td>0.085128</td>\n",
       "      <td>0.085128</td>\n",
       "      <td>53.431</td>\n",
       "      <td>1.500006e+12</td>\n",
       "      <td>4.564263</td>\n",
       "      <td>15.0</td>\n",
       "      <td>0.000</td>\n",
       "      <td>0.000000</td>\n",
       "      <td>22466.795526</td>\n",
       "    </tr>\n",
       "    <tr>\n",
       "      <th>4</th>\n",
       "      <td>2017-07-14 04:20:00</td>\n",
       "      <td>0.085274</td>\n",
       "      <td>0.086000</td>\n",
       "      <td>0.085274</td>\n",
       "      <td>0.086000</td>\n",
       "      <td>5.576</td>\n",
       "      <td>1.500006e+12</td>\n",
       "      <td>0.479001</td>\n",
       "      <td>10.0</td>\n",
       "      <td>2.551</td>\n",
       "      <td>0.219051</td>\n",
       "      <td>22466.241818</td>\n",
       "    </tr>\n",
       "  </tbody>\n",
       "</table>\n",
       "</div>"
      ],
      "text/plain": [
       "             Timestamp      Open      High       Low     Close  Volume  \\\n",
       "0  2017-07-14 04:00:00  0.080000  0.080000  0.080000  0.080000   0.726   \n",
       "1  2017-07-14 04:05:00  0.080000  0.080001  0.080000  0.080001   3.347   \n",
       "2  2017-07-14 04:10:00  0.080001  0.086400  0.080001  0.086400   4.679   \n",
       "3  2017-07-14 04:15:00  0.085289  0.085620  0.085128  0.085128  53.431   \n",
       "4  2017-07-14 04:20:00  0.085274  0.086000  0.085274  0.086000   5.576   \n",
       "\n",
       "     Close_time  Quote_av  Trades  Tb_base_av  Tb_quote_av        Ignore  \n",
       "0  1.500005e+12  0.058080     6.0       0.000     0.000000  22435.373864  \n",
       "1  1.500005e+12  0.267760     9.0       0.000     0.000000  22447.699705  \n",
       "2  1.500006e+12  0.402434    11.0       3.268     0.282355  22463.043126  \n",
       "3  1.500006e+12  4.564263    15.0       0.000     0.000000  22466.795526  \n",
       "4  1.500006e+12  0.479001    10.0       2.551     0.219051  22466.241818  "
      ]
     },
     "execution_count": 2,
     "metadata": {},
     "output_type": "execute_result"
    }
   ],
   "source": [
    "df = pd.read_csv('ETHBTC-5m-data.csv')\n",
    "df.head()"
   ]
  },
  {
   "cell_type": "code",
   "execution_count": 3,
   "metadata": {},
   "outputs": [],
   "source": [
    "df = df.set_index('Timestamp')"
   ]
  },
  {
   "cell_type": "code",
   "execution_count": 4,
   "metadata": {},
   "outputs": [
    {
     "data": {
      "text/html": [
       "<div>\n",
       "<style scoped>\n",
       "    .dataframe tbody tr th:only-of-type {\n",
       "        vertical-align: middle;\n",
       "    }\n",
       "\n",
       "    .dataframe tbody tr th {\n",
       "        vertical-align: top;\n",
       "    }\n",
       "\n",
       "    .dataframe thead th {\n",
       "        text-align: right;\n",
       "    }\n",
       "</style>\n",
       "<table border=\"1\" class=\"dataframe\">\n",
       "  <thead>\n",
       "    <tr style=\"text-align: right;\">\n",
       "      <th></th>\n",
       "      <th>Open</th>\n",
       "      <th>High</th>\n",
       "      <th>Low</th>\n",
       "      <th>Close</th>\n",
       "    </tr>\n",
       "  </thead>\n",
       "  <tbody>\n",
       "    <tr>\n",
       "      <th>count</th>\n",
       "      <td>453585.000000</td>\n",
       "      <td>453585.000000</td>\n",
       "      <td>453585.000000</td>\n",
       "      <td>453585.000000</td>\n",
       "    </tr>\n",
       "    <tr>\n",
       "      <th>mean</th>\n",
       "      <td>0.043491</td>\n",
       "      <td>0.043558</td>\n",
       "      <td>0.043424</td>\n",
       "      <td>0.043491</td>\n",
       "    </tr>\n",
       "    <tr>\n",
       "      <th>std</th>\n",
       "      <td>0.021648</td>\n",
       "      <td>0.021693</td>\n",
       "      <td>0.021603</td>\n",
       "      <td>0.021648</td>\n",
       "    </tr>\n",
       "    <tr>\n",
       "      <th>min</th>\n",
       "      <td>0.016169</td>\n",
       "      <td>0.016176</td>\n",
       "      <td>0.016150</td>\n",
       "      <td>0.016167</td>\n",
       "    </tr>\n",
       "    <tr>\n",
       "      <th>25%</th>\n",
       "      <td>0.026324</td>\n",
       "      <td>0.026366</td>\n",
       "      <td>0.026277</td>\n",
       "      <td>0.026323</td>\n",
       "    </tr>\n",
       "    <tr>\n",
       "      <th>50%</th>\n",
       "      <td>0.033906</td>\n",
       "      <td>0.033944</td>\n",
       "      <td>0.033868</td>\n",
       "      <td>0.033906</td>\n",
       "    </tr>\n",
       "    <tr>\n",
       "      <th>75%</th>\n",
       "      <td>0.063200</td>\n",
       "      <td>0.063290</td>\n",
       "      <td>0.063113</td>\n",
       "      <td>0.063200</td>\n",
       "    </tr>\n",
       "    <tr>\n",
       "      <th>max</th>\n",
       "      <td>0.123640</td>\n",
       "      <td>0.123799</td>\n",
       "      <td>0.122851</td>\n",
       "      <td>0.123511</td>\n",
       "    </tr>\n",
       "  </tbody>\n",
       "</table>\n",
       "</div>"
      ],
      "text/plain": [
       "                Open           High            Low          Close\n",
       "count  453585.000000  453585.000000  453585.000000  453585.000000\n",
       "mean        0.043491       0.043558       0.043424       0.043491\n",
       "std         0.021648       0.021693       0.021603       0.021648\n",
       "min         0.016169       0.016176       0.016150       0.016167\n",
       "25%         0.026324       0.026366       0.026277       0.026323\n",
       "50%         0.033906       0.033944       0.033868       0.033906\n",
       "75%         0.063200       0.063290       0.063113       0.063200\n",
       "max         0.123640       0.123799       0.122851       0.123511"
      ]
     },
     "execution_count": 4,
     "metadata": {},
     "output_type": "execute_result"
    }
   ],
   "source": [
    "df = df.iloc[:, :4]\n",
    "df.describe()"
   ]
  },
  {
   "cell_type": "code",
   "execution_count": 5,
   "metadata": {},
   "outputs": [
    {
     "name": "stdout",
     "output_type": "stream",
     "text": [
      "<class 'pandas.core.frame.DataFrame'>\n",
      "Index: 453585 entries, 2017-07-14 04:00:00 to 2021-11-10 13:15:00\n",
      "Data columns (total 4 columns):\n",
      " #   Column  Non-Null Count   Dtype  \n",
      "---  ------  --------------   -----  \n",
      " 0   Open    453585 non-null  float64\n",
      " 1   High    453585 non-null  float64\n",
      " 2   Low     453585 non-null  float64\n",
      " 3   Close   453585 non-null  float64\n",
      "dtypes: float64(4)\n",
      "memory usage: 17.3+ MB\n"
     ]
    }
   ],
   "source": [
    "df.info()"
   ]
  },
  {
   "cell_type": "code",
   "execution_count": 7,
   "metadata": {},
   "outputs": [
    {
     "data": {
      "text/plain": [
       "Text(0.5, 0, 'Time')"
      ]
     },
     "execution_count": 7,
     "metadata": {},
     "output_type": "execute_result"
    },
    {
     "data": {
      "image/png": "[encoded data removed]",
      "text/plain": [
       "<Figure size 720x504 with 1 Axes>"
      ]
     },
     "metadata": {
      "needs_background": "light"
     },
     "output_type": "display_data"
    }
   ],
   "source": [
    "plt.figure(figsize=(10, 7))\n",
    "plt.plot(df.Close.values)\n",
    "plt.ylabel('ETH/BTC')\n",
    "plt.xlabel('Time')"
   ]
  },
  {
   "cell_type": "code",
   "execution_count": null,
   "metadata": {},
   "outputs": [],
   "source": []
  }
 ],
 "metadata": {
  "interpreter": {
   "hash": "ac3da779536756720bc930bbdcbe3b303a716c4190960bb8b007750e7b6b7c5d"
  },
  "kernelspec": {
   "display_name": "Python 3.7.6 64-bit",
   "language": "python",
   "name": "python3"
  },
  "language_info": {
   "codemirror_mode": {
    "name": "ipython",
    "version": 3
   },
   "file_extension": ".py",
   "mimetype": "text/x-python",
   "name": "python",
   "nbconvert_exporter": "python",
   "pygments_lexer": "ipython3",
   "version": "3.7.6"
  },
  "orig_nbformat": 4
 },
 "nbformat": 4,
 "nbformat_minor": 2
}
