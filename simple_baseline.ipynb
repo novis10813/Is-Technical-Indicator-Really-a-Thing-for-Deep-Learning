{
 "cells": [
  {
   "cell_type": "markdown",
   "metadata": {},
   "source": [
    "# Import Data"
   ]
  },
  {
   "cell_type": "code",
   "execution_count": 1,
   "metadata": {},
   "outputs": [],
   "source": [
    "from utils.data_preprocess import *\n",
    "from utils.tf_helpers import create_model_checkpoint, evaluate_preds\n",
    "import pandas as pd\n",
    "import numpy as np"
   ]
  },
  {
   "cell_type": "code",
   "execution_count": 20,
   "metadata": {},
   "outputs": [
    {
     "data": {
      "text/html": [
       "<div>\n",
       "<style scoped>\n",
       "    .dataframe tbody tr th:only-of-type {\n",
       "        vertical-align: middle;\n",
       "    }\n",
       "\n",
       "    .dataframe tbody tr th {\n",
       "        vertical-align: top;\n",
       "    }\n",
       "\n",
       "    .dataframe thead th {\n",
       "        text-align: right;\n",
       "    }\n",
       "</style>\n",
       "<table border=\"1\" class=\"dataframe\">\n",
       "  <thead>\n",
       "    <tr style=\"text-align: right;\">\n",
       "      <th></th>\n",
       "      <th>Close</th>\n",
       "    </tr>\n",
       "    <tr>\n",
       "      <th>Timestamp</th>\n",
       "      <th></th>\n",
       "    </tr>\n",
       "  </thead>\n",
       "  <tbody>\n",
       "    <tr>\n",
       "      <th>2017-07-14 04:00:00</th>\n",
       "      <td>0.080000</td>\n",
       "    </tr>\n",
       "    <tr>\n",
       "      <th>2017-07-14 04:05:00</th>\n",
       "      <td>0.080001</td>\n",
       "    </tr>\n",
       "    <tr>\n",
       "      <th>2017-07-14 04:10:00</th>\n",
       "      <td>0.086400</td>\n",
       "    </tr>\n",
       "    <tr>\n",
       "      <th>2017-07-14 04:15:00</th>\n",
       "      <td>0.085128</td>\n",
       "    </tr>\n",
       "    <tr>\n",
       "      <th>2017-07-14 04:20:00</th>\n",
       "      <td>0.086000</td>\n",
       "    </tr>\n",
       "  </tbody>\n",
       "</table>\n",
       "</div>"
      ],
      "text/plain": [
       "                        Close\n",
       "Timestamp                    \n",
       "2017-07-14 04:00:00  0.080000\n",
       "2017-07-14 04:05:00  0.080001\n",
       "2017-07-14 04:10:00  0.086400\n",
       "2017-07-14 04:15:00  0.085128\n",
       "2017-07-14 04:20:00  0.086000"
      ]
     },
     "execution_count": 20,
     "metadata": {},
     "output_type": "execute_result"
    }
   ],
   "source": [
    "df = pd.read_csv('data\\ETHBTC-5m-data.csv')\n",
    "df = df.set_index('Timestamp')\n",
    "df = df.loc[:, ['Close']]\n",
    "df.head()"
   ]
  },
  {
   "cell_type": "markdown",
   "metadata": {},
   "source": [
    "## Turn Dataset into tf.dataset to Train Faster"
   ]
  },
  {
   "cell_type": "code",
   "execution_count": 21,
   "metadata": {},
   "outputs": [],
   "source": [
    "datas = data_split(df, 3)\n",
    "train_df, val_df, test_df = train_val_test_split(datas[0])"
   ]
  },
  {
   "cell_type": "code",
   "execution_count": 22,
   "metadata": {},
   "outputs": [
    {
     "data": {
      "text/plain": [
       "Total window size: 24\n",
       "Input indices: [ 0  1  2  3  4  5  6  7  8  9 10 11 12 13 14 15 16 17 18 19 20 21 22 23]\n",
       "Label indices: [24]\n",
       "Label column name(s): ['Close']"
      ]
     },
     "execution_count": 22,
     "metadata": {},
     "output_type": "execute_result"
    }
   ],
   "source": [
    "Data = DataPreprocess(train_df, val_df, test_df, window_size=24, label_size=1, shift=1, label_columns=['Close'])\n",
    "Data"
   ]
  },
  {
   "cell_type": "code",
   "execution_count": 23,
   "metadata": {},
   "outputs": [],
   "source": [
    "train_ds = Data.train.prefetch(tf.data.AUTOTUNE)\n",
    "val_ds = Data.val.prefetch(tf.data.AUTOTUNE)\n",
    "test_ds = Data.test.prefetch(tf.data.AUTOTUNE)"
   ]
  },
  {
   "cell_type": "markdown",
   "metadata": {},
   "source": [
    "# Build an MLP Model"
   ]
  },
  {
   "cell_type": "code",
   "execution_count": 24,
   "metadata": {},
   "outputs": [],
   "source": [
    "import tensorflow as tf\n",
    "from tensorflow.keras import layers, Sequential"
   ]
  },
  {
   "cell_type": "code",
   "execution_count": 26,
   "metadata": {},
   "outputs": [],
   "source": [
    "def MLP_model():\n",
    "    model = Sequential([\n",
    "        layers.Dense(128, activation='relu'),\n",
    "        layers.Dense(256, activation='relu'),\n",
    "        layers.Dense(64, activation='relu'),\n",
    "        layers.Dense(1, activation='linear')\n",
    "    ], name='MLP_ohlcv')\n",
    "    \n",
    "    model.compile(loss='mse', optimizer='adam', metrics=['mae'])\n",
    "    return model\n",
    "\n",
    "model = MLP_model()"
   ]
  },
  {
   "cell_type": "code",
   "execution_count": 27,
   "metadata": {},
   "outputs": [
    {
     "name": "stdout",
     "output_type": "stream",
     "text": [
      "Epoch 1/2000\n",
      "827/827 [==============================] - 9s 10ms/step - loss: 3.6893e-05 - mae: 0.0030 - val_loss: 6.3816e-04 - val_mae: 0.0236\n",
      "INFO:tensorflow:Assets written to: model_experiments\\MLP_ohlcv\\assets\n",
      "Epoch 2/2000\n",
      "827/827 [==============================] - 8s 9ms/step - loss: 1.8489e-05 - mae: 0.0031 - val_loss: 9.6249e-04 - val_mae: 0.0293\n",
      "Epoch 3/2000\n",
      "827/827 [==============================] - 8s 9ms/step - loss: 2.4746e-05 - mae: 0.0037 - val_loss: 9.8733e-04 - val_mae: 0.0297\n",
      "Epoch 4/2000\n",
      "827/827 [==============================] - 8s 10ms/step - loss: 2.6494e-05 - mae: 0.0040 - val_loss: 9.7709e-04 - val_mae: 0.0295\n",
      "Epoch 5/2000\n",
      "827/827 [==============================] - 8s 10ms/step - loss: 2.6652e-05 - mae: 0.0039 - val_loss: 9.0112e-04 - val_mae: 0.0282\n",
      "Epoch 6/2000\n",
      "827/827 [==============================] - 8s 10ms/step - loss: 2.9373e-05 - mae: 0.0040 - val_loss: 8.9697e-04 - val_mae: 0.0281\n",
      "\n",
      "Epoch 00006: ReduceLROnPlateau reducing learning rate to 0.0005000000237487257.\n",
      "Epoch 7/2000\n",
      "827/827 [==============================] - 8s 10ms/step - loss: 4.1153e-05 - mae: 0.0047 - val_loss: 9.2085e-04 - val_mae: 0.0285\n",
      "Epoch 8/2000\n",
      "827/827 [==============================] - 8s 9ms/step - loss: 4.0423e-05 - mae: 0.0047 - val_loss: 9.4356e-04 - val_mae: 0.0289\n",
      "Epoch 9/2000\n",
      "827/827 [==============================] - 8s 10ms/step - loss: 4.0218e-05 - mae: 0.0048 - val_loss: 9.4012e-04 - val_mae: 0.0289\n",
      "Epoch 10/2000\n",
      "827/827 [==============================] - 8s 10ms/step - loss: 4.3959e-05 - mae: 0.0050 - val_loss: 9.3466e-04 - val_mae: 0.0288\n",
      "Epoch 11/2000\n",
      "827/827 [==============================] - 8s 10ms/step - loss: 4.6184e-05 - mae: 0.0051 - val_loss: 9.3289e-04 - val_mae: 0.0287\n",
      "\n",
      "Epoch 00011: ReduceLROnPlateau reducing learning rate to 0.0002500000118743628.\n",
      "Restoring model weights from the end of the best epoch.\n",
      "Epoch 00011: early stopping\n"
     ]
    },
    {
     "data": {
      "text/plain": [
       "<keras.callbacks.History at 0x1c574ee0108>"
      ]
     },
     "execution_count": 27,
     "metadata": {},
     "output_type": "execute_result"
    }
   ],
   "source": [
    "model.fit(train_ds,\n",
    "          epochs=2000,\n",
    "          steps_per_epoch=len(train_ds),\n",
    "          validation_data=val_ds,\n",
    "          validation_steps=len(val_ds),\n",
    "          callbacks=[create_model_checkpoint(model_name=model.name),\n",
    "                     tf.keras.callbacks.ReduceLROnPlateau(monitor='val_loss', factor=0.5, patience=5, verbose=1),\n",
    "                     tf.keras.callbacks.EarlyStopping(monitor='val_loss', patience=10, verbose=1, restore_best_weights=True)])"
   ]
  },
  {
   "cell_type": "code",
   "execution_count": 38,
   "metadata": {},
   "outputs": [
    {
     "name": "stdout",
     "output_type": "stream",
     "text": [
      "237/237 [==============================] - 2s 7ms/step - loss: 6.3816e-04 - mae: 0.0236\n"
     ]
    },
    {
     "data": {
      "text/plain": [
       "[0.0006381588755175471, 0.023607874289155006]"
      ]
     },
     "execution_count": 38,
     "metadata": {},
     "output_type": "execute_result"
    }
   ],
   "source": [
    "model.evaluate(val_ds)"
   ]
  },
  {
   "cell_type": "code",
   "execution_count": 30,
   "metadata": {},
   "outputs": [],
   "source": [
    "# Create a function to predict the future\n",
    "def make_future_forecasts(values, model, into_future, window_size=24) -> list:\n",
    "    \"\"\"\n",
    "    Make future forecasts into_future steps after values ends.\n",
    "\n",
    "    Returns future forecasts as a list of floats\n",
    "    \"\"\"\n",
    "    # Create an empty list for future forecasts/prepare data to forecast on\n",
    "    future_forecasts = []\n",
    "    last_window = values[-window_size:]\n",
    "    # Make INTO_FUTURE number of predictions, altering the data which gets predicted on each\n",
    "    for _ in range(into_future):\n",
    "        # Predict on the last window then append it again\n",
    "        future_pred = model.predict(tf.expand_dims(last_window, axis=0))\n",
    "        print(f'Predicting on: \\n {last_window} -> Prediction: {tf.squeeze(future_pred).numpy()}\\n')\n",
    "        # Append predictions to future forecast\n",
    "        future_forecasts.append(tf.squeeze(future_pred).numpy())\n",
    "        # Update last window with new pred and get WINDOW_SIZE most recent preds (model was trained on WINDOW_SIZE window)\n",
    "        last_window = np.append(last_window, future_pred)[-window_size:]\n",
    "    return future_forecasts"
   ]
  },
  {
   "cell_type": "code",
   "execution_count": null,
   "metadata": {},
   "outputs": [],
   "source": []
  }
 ],
 "metadata": {
  "interpreter": {
   "hash": "ac3da779536756720bc930bbdcbe3b303a716c4190960bb8b007750e7b6b7c5d"
  },
  "kernelspec": {
   "display_name": "Python 3.7.6 64-bit",
   "language": "python",
   "name": "python3"
  },
  "language_info": {
   "codemirror_mode": {
    "name": "ipython",
    "version": 3
   },
   "file_extension": ".py",
   "mimetype": "text/x-python",
   "name": "python",
   "nbconvert_exporter": "python",
   "pygments_lexer": "ipython3",
   "version": "3.7.6"
  },
  "orig_nbformat": 4
 },
 "nbformat": 4,
 "nbformat_minor": 2
}
