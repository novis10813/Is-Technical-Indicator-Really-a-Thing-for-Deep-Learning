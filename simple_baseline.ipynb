{
 "cells": [
  {
   "cell_type": "code",
   "execution_count": 1,
   "metadata": {},
   "outputs": [],
   "source": [
    "from utils.data_preprocess import *\n",
    "from utils.tf_helpers import create_model_checkpoint, evaluate_preds\n",
    "import pandas as pd\n",
    "import numpy as np"
   ]
  },
  {
   "cell_type": "code",
   "execution_count": 2,
   "metadata": {},
   "outputs": [],
   "source": [
    "df = DataPreprocess('ETHBTC-5m-data.csv').get_ohlcv()"
   ]
  },
  {
   "cell_type": "code",
   "execution_count": 3,
   "metadata": {},
   "outputs": [],
   "source": [
    "X, y = make_windows(df, 12)"
   ]
  },
  {
   "cell_type": "code",
   "execution_count": 4,
   "metadata": {},
   "outputs": [
    {
     "data": {
      "text/html": [
       "<div>\n",
       "<style scoped>\n",
       "    .dataframe tbody tr th:only-of-type {\n",
       "        vertical-align: middle;\n",
       "    }\n",
       "\n",
       "    .dataframe tbody tr th {\n",
       "        vertical-align: top;\n",
       "    }\n",
       "\n",
       "    .dataframe thead th {\n",
       "        text-align: right;\n",
       "    }\n",
       "</style>\n",
       "<table border=\"1\" class=\"dataframe\">\n",
       "  <thead>\n",
       "    <tr style=\"text-align: right;\">\n",
       "      <th></th>\n",
       "      <th>Open</th>\n",
       "      <th>High</th>\n",
       "      <th>Low</th>\n",
       "      <th>Volume</th>\n",
       "      <th>Close12</th>\n",
       "      <th>Close11</th>\n",
       "      <th>Close10</th>\n",
       "      <th>Close9</th>\n",
       "      <th>Close8</th>\n",
       "      <th>Close7</th>\n",
       "      <th>Close6</th>\n",
       "      <th>Close5</th>\n",
       "      <th>Close4</th>\n",
       "      <th>Close3</th>\n",
       "      <th>Close2</th>\n",
       "      <th>Close1</th>\n",
       "    </tr>\n",
       "    <tr>\n",
       "      <th>Timestamp</th>\n",
       "      <th></th>\n",
       "      <th></th>\n",
       "      <th></th>\n",
       "      <th></th>\n",
       "      <th></th>\n",
       "      <th></th>\n",
       "      <th></th>\n",
       "      <th></th>\n",
       "      <th></th>\n",
       "      <th></th>\n",
       "      <th></th>\n",
       "      <th></th>\n",
       "      <th></th>\n",
       "      <th></th>\n",
       "      <th></th>\n",
       "      <th></th>\n",
       "    </tr>\n",
       "  </thead>\n",
       "  <tbody>\n",
       "    <tr>\n",
       "      <th>2017-07-14 05:00:00</th>\n",
       "      <td>0.085874</td>\n",
       "      <td>0.086205</td>\n",
       "      <td>0.085874</td>\n",
       "      <td>1.304</td>\n",
       "      <td>0.086347</td>\n",
       "      <td>0.086380</td>\n",
       "      <td>0.086350</td>\n",
       "      <td>0.086314</td>\n",
       "      <td>0.086180</td>\n",
       "      <td>0.086000</td>\n",
       "      <td>0.085811</td>\n",
       "      <td>0.086000</td>\n",
       "      <td>0.085128</td>\n",
       "      <td>0.086400</td>\n",
       "      <td>0.080001</td>\n",
       "      <td>0.080000</td>\n",
       "    </tr>\n",
       "    <tr>\n",
       "      <th>2017-07-14 05:05:00</th>\n",
       "      <td>0.085816</td>\n",
       "      <td>0.085816</td>\n",
       "      <td>0.084824</td>\n",
       "      <td>9.770</td>\n",
       "      <td>0.085978</td>\n",
       "      <td>0.086347</td>\n",
       "      <td>0.086380</td>\n",
       "      <td>0.086350</td>\n",
       "      <td>0.086314</td>\n",
       "      <td>0.086180</td>\n",
       "      <td>0.086000</td>\n",
       "      <td>0.085811</td>\n",
       "      <td>0.086000</td>\n",
       "      <td>0.085128</td>\n",
       "      <td>0.086400</td>\n",
       "      <td>0.080001</td>\n",
       "    </tr>\n",
       "    <tr>\n",
       "      <th>2017-07-14 05:10:00</th>\n",
       "      <td>0.084803</td>\n",
       "      <td>0.084803</td>\n",
       "      <td>0.084608</td>\n",
       "      <td>5.446</td>\n",
       "      <td>0.084824</td>\n",
       "      <td>0.085978</td>\n",
       "      <td>0.086347</td>\n",
       "      <td>0.086380</td>\n",
       "      <td>0.086350</td>\n",
       "      <td>0.086314</td>\n",
       "      <td>0.086180</td>\n",
       "      <td>0.086000</td>\n",
       "      <td>0.085811</td>\n",
       "      <td>0.086000</td>\n",
       "      <td>0.085128</td>\n",
       "      <td>0.086400</td>\n",
       "    </tr>\n",
       "    <tr>\n",
       "      <th>2017-07-14 05:15:00</th>\n",
       "      <td>0.084581</td>\n",
       "      <td>0.086196</td>\n",
       "      <td>0.084581</td>\n",
       "      <td>8.833</td>\n",
       "      <td>0.084680</td>\n",
       "      <td>0.084824</td>\n",
       "      <td>0.085978</td>\n",
       "      <td>0.086347</td>\n",
       "      <td>0.086380</td>\n",
       "      <td>0.086350</td>\n",
       "      <td>0.086314</td>\n",
       "      <td>0.086180</td>\n",
       "      <td>0.086000</td>\n",
       "      <td>0.085811</td>\n",
       "      <td>0.086000</td>\n",
       "      <td>0.085128</td>\n",
       "    </tr>\n",
       "    <tr>\n",
       "      <th>2017-07-14 05:20:00</th>\n",
       "      <td>0.085590</td>\n",
       "      <td>0.085810</td>\n",
       "      <td>0.085496</td>\n",
       "      <td>4.461</td>\n",
       "      <td>0.086196</td>\n",
       "      <td>0.084680</td>\n",
       "      <td>0.084824</td>\n",
       "      <td>0.085978</td>\n",
       "      <td>0.086347</td>\n",
       "      <td>0.086380</td>\n",
       "      <td>0.086350</td>\n",
       "      <td>0.086314</td>\n",
       "      <td>0.086180</td>\n",
       "      <td>0.086000</td>\n",
       "      <td>0.085811</td>\n",
       "      <td>0.086000</td>\n",
       "    </tr>\n",
       "  </tbody>\n",
       "</table>\n",
       "</div>"
      ],
      "text/plain": [
       "                         Open      High       Low  Volume   Close12   Close11  \\\n",
       "Timestamp                                                                       \n",
       "2017-07-14 05:00:00  0.085874  0.086205  0.085874   1.304  0.086347  0.086380   \n",
       "2017-07-14 05:05:00  0.085816  0.085816  0.084824   9.770  0.085978  0.086347   \n",
       "2017-07-14 05:10:00  0.084803  0.084803  0.084608   5.446  0.084824  0.085978   \n",
       "2017-07-14 05:15:00  0.084581  0.086196  0.084581   8.833  0.084680  0.084824   \n",
       "2017-07-14 05:20:00  0.085590  0.085810  0.085496   4.461  0.086196  0.084680   \n",
       "\n",
       "                      Close10    Close9    Close8    Close7    Close6  \\\n",
       "Timestamp                                                               \n",
       "2017-07-14 05:00:00  0.086350  0.086314  0.086180  0.086000  0.085811   \n",
       "2017-07-14 05:05:00  0.086380  0.086350  0.086314  0.086180  0.086000   \n",
       "2017-07-14 05:10:00  0.086347  0.086380  0.086350  0.086314  0.086180   \n",
       "2017-07-14 05:15:00  0.085978  0.086347  0.086380  0.086350  0.086314   \n",
       "2017-07-14 05:20:00  0.084824  0.085978  0.086347  0.086380  0.086350   \n",
       "\n",
       "                       Close5    Close4    Close3    Close2    Close1  \n",
       "Timestamp                                                              \n",
       "2017-07-14 05:00:00  0.086000  0.085128  0.086400  0.080001  0.080000  \n",
       "2017-07-14 05:05:00  0.085811  0.086000  0.085128  0.086400  0.080001  \n",
       "2017-07-14 05:10:00  0.086000  0.085811  0.086000  0.085128  0.086400  \n",
       "2017-07-14 05:15:00  0.086180  0.086000  0.085811  0.086000  0.085128  \n",
       "2017-07-14 05:20:00  0.086314  0.086180  0.086000  0.085811  0.086000  "
      ]
     },
     "execution_count": 4,
     "metadata": {},
     "output_type": "execute_result"
    }
   ],
   "source": [
    "X.head()"
   ]
  },
  {
   "cell_type": "code",
   "execution_count": 5,
   "metadata": {},
   "outputs": [
    {
     "data": {
      "text/plain": [
       "Timestamp\n",
       "2017-07-14 05:00:00    0.085978\n",
       "2017-07-14 05:05:00    0.084824\n",
       "2017-07-14 05:10:00    0.084680\n",
       "2017-07-14 05:15:00    0.086196\n",
       "2017-07-14 05:20:00    0.085496\n",
       "Name: Close, dtype: float32"
      ]
     },
     "execution_count": 5,
     "metadata": {},
     "output_type": "execute_result"
    }
   ],
   "source": [
    "y.head()"
   ]
  },
  {
   "cell_type": "code",
   "execution_count": 7,
   "metadata": {},
   "outputs": [],
   "source": [
    "import tensorflow as tf\n",
    "from tensorflow.keras import layers"
   ]
  },
  {
   "cell_type": "code",
   "execution_count": 9,
   "metadata": {},
   "outputs": [],
   "source": [
    "def simple_baseline():\n",
    "    input = tf.keras.Input(shape=(16,), name='input_layer')\n",
    "    x = layers.Dense(256, activation='relu')(input)\n",
    "    x = layers.Dense(128, activation='relu')(x)\n",
    "    x = layers.Dense(64, activation='relu')(x)\n",
    "    output = layers.Dense(1, activation='linear')(x)\n",
    "    \n",
    "    model = tf.keras.Model(input, output, name='simple_baseline_model')\n",
    "    \n",
    "    return model"
   ]
  },
  {
   "cell_type": "code",
   "execution_count": 10,
   "metadata": {},
   "outputs": [],
   "source": [
    "model = simple_baseline()\n",
    "model.compile(loss='mae', optimizer='adam', metrics=['mae', 'mse'])"
   ]
  },
  {
   "cell_type": "code",
   "execution_count": null,
   "metadata": {},
   "outputs": [],
   "source": [
    "model.fit()"
   ]
  }
 ],
 "metadata": {
  "interpreter": {
   "hash": "ac3da779536756720bc930bbdcbe3b303a716c4190960bb8b007750e7b6b7c5d"
  },
  "kernelspec": {
   "display_name": "Python 3.7.6 64-bit",
   "language": "python",
   "name": "python3"
  },
  "language_info": {
   "codemirror_mode": {
    "name": "ipython",
    "version": 3
   },
   "file_extension": ".py",
   "mimetype": "text/x-python",
   "name": "python",
   "nbconvert_exporter": "python",
   "pygments_lexer": "ipython3",
   "version": "3.7.6"
  },
  "orig_nbformat": 4
 },
 "nbformat": 4,
 "nbformat_minor": 2
}
