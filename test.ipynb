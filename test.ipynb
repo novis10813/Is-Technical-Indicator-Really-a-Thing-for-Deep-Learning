{
 "cells": [
  {
   "cell_type": "code",
   "execution_count": 1,
   "metadata": {},
   "outputs": [],
   "source": [
    "import pandas as pd\n",
    "import numpy as np\n",
    "import tensorflow as tf\n",
    "from utils.data_preprocess import * # data_split, DataLabeling, train_val_test_split\n",
    "from models import *"
   ]
  },
  {
   "cell_type": "code",
   "execution_count": 2,
   "metadata": {},
   "outputs": [],
   "source": [
    "WINDOW_SIZE = 24"
   ]
  },
  {
   "cell_type": "code",
   "execution_count": 16,
   "metadata": {},
   "outputs": [],
   "source": [
    "df = pd.read_csv('data\\ETHBTC-5m-data.csv')\n",
    "raw_data = DataLabeling(df, WINDOW_SIZE)\n",
    "train_df, val_df, test_df = train_val_test_split(raw_data.labelled_data, rolling=150000)\n",
    "Data = DataPreprocess(train_df, val_df, test_df, WINDOW_SIZE, label_size=1, label_columns=['Trend'], shift=0)"
   ]
  },
  {
   "cell_type": "code",
   "execution_count": 24,
   "metadata": {},
   "outputs": [],
   "source": [
    "model = MLP_model(24, 5)"
   ]
  },
  {
   "cell_type": "code",
   "execution_count": 25,
   "metadata": {},
   "outputs": [],
   "source": [
    "test_model = model.model"
   ]
  },
  {
   "cell_type": "code",
   "execution_count": 26,
   "metadata": {},
   "outputs": [
    {
     "name": "stdout",
     "output_type": "stream",
     "text": [
      "Epoch 1/20000\n",
      "11864/11867 [============================>.] - ETA: 0s - loss: 0.7584 - accuracy: 0.5123INFO:tensorflow:Assets written to: ETHBTC_without_TIs\\MLP_model\\assets\n",
      "11867/11867 [==============================] - 202s 17ms/step - loss: 0.7583 - accuracy: 0.5123 - val_loss: 0.8918 - val_accuracy: 0.5000\n",
      "Epoch 2/20000\n",
      "11866/11867 [============================>.] - ETA: 0s - loss: 0.7350 - accuracy: 0.5163INFO:tensorflow:Assets written to: ETHBTC_without_TIs\\MLP_model\\assets\n",
      "11867/11867 [==============================] - 199s 17ms/step - loss: 0.7350 - accuracy: 0.5163 - val_loss: 0.8908 - val_accuracy: 0.3333\n",
      "Epoch 3/20000\n",
      "11867/11867 [==============================] - 193s 16ms/step - loss: 0.7336 - accuracy: 0.5141 - val_loss: 0.8958 - val_accuracy: 0.3333\n",
      "Epoch 4/20000\n",
      "11867/11867 [==============================] - 196s 17ms/step - loss: 0.7334 - accuracy: 0.5130 - val_loss: 0.8940 - val_accuracy: 0.3333\n",
      "Epoch 5/20000\n",
      "11867/11867 [==============================] - 196s 16ms/step - loss: 0.7316 - accuracy: 0.5120 - val_loss: 0.8913 - val_accuracy: 0.3333\n",
      "Epoch 6/20000\n",
      "11867/11867 [==============================] - 198s 17ms/step - loss: 0.7310 - accuracy: 0.5126 - val_loss: 0.8922 - val_accuracy: 0.3333\n",
      "Epoch 7/20000\n",
      "11867/11867 [==============================] - ETA: 0s - loss: 0.7314 - accuracy: 0.5125INFO:tensorflow:Assets written to: ETHBTC_without_TIs\\MLP_model\\assets\n",
      "11867/11867 [==============================] - 204s 17ms/step - loss: 0.7314 - accuracy: 0.5125 - val_loss: 0.8901 - val_accuracy: 0.3333\n",
      "Epoch 8/20000\n",
      "11867/11867 [==============================] - 197s 17ms/step - loss: 0.7310 - accuracy: 0.5135 - val_loss: 0.8912 - val_accuracy: 0.3333\n",
      "Epoch 9/20000\n",
      "11867/11867 [==============================] - 196s 17ms/step - loss: 0.7309 - accuracy: 0.5120 - val_loss: 0.8917 - val_accuracy: 0.3333\n",
      "Epoch 10/20000\n",
      "11867/11867 [==============================] - 197s 17ms/step - loss: 0.7311 - accuracy: 0.5118 - val_loss: 0.8933 - val_accuracy: 0.3333\n",
      "Epoch 11/20000\n",
      "11867/11867 [==============================] - 195s 16ms/step - loss: 0.7306 - accuracy: 0.5126 - val_loss: 0.8915 - val_accuracy: 0.3333\n",
      "Epoch 12/20000\n",
      "11867/11867 [==============================] - 198s 17ms/step - loss: 0.7308 - accuracy: 0.5119 - val_loss: 0.8913 - val_accuracy: 0.3333\n",
      "Epoch 13/20000\n",
      "11867/11867 [==============================] - 195s 16ms/step - loss: 0.7305 - accuracy: 0.5131 - val_loss: 0.8916 - val_accuracy: 0.3333\n",
      "Epoch 14/20000\n",
      "11867/11867 [==============================] - 197s 17ms/step - loss: 0.7303 - accuracy: 0.5120 - val_loss: 0.8908 - val_accuracy: 0.3333\n",
      "Epoch 15/20000\n",
      "11867/11867 [==============================] - 197s 17ms/step - loss: 0.7308 - accuracy: 0.5128 - val_loss: 0.8925 - val_accuracy: 0.3333\n",
      "Epoch 16/20000\n",
      "11867/11867 [==============================] - 197s 17ms/step - loss: 0.7303 - accuracy: 0.5133 - val_loss: 0.8921 - val_accuracy: 0.3333\n",
      "Epoch 17/20000\n",
      "11867/11867 [==============================] - 195s 16ms/step - loss: 0.7299 - accuracy: 0.5131 - val_loss: 0.8912 - val_accuracy: 0.3333\n"
     ]
    },
    {
     "data": {
      "text/plain": [
       "<keras.callbacks.History at 0x1b42406a648>"
      ]
     },
     "execution_count": 26,
     "metadata": {},
     "output_type": "execute_result"
    }
   ],
   "source": [
    "test_model.fit(Data.train,\n",
    "               epochs=20000,\n",
    "               validation_data=Data.val,\n",
    "               steps_per_epoch=len(Data.train),\n",
    "               validation_steps=int(0.15*len(Data.val)),\n",
    "               callbacks=[create_model_checkpoint(model_name=test_model.name, save_path='ETHBTC_without_TIs'),\n",
    "                          tf.keras.callbacks.EarlyStopping(monitor='val_loss', patience=10)])"
   ]
  },
  {
   "cell_type": "code",
   "execution_count": 28,
   "metadata": {},
   "outputs": [
    {
     "name": "stdout",
     "output_type": "stream",
     "text": [
      "7/7 [==============================] - 0s 7ms/step - loss: 0.7050 - accuracy: 0.4658\n"
     ]
    },
    {
     "data": {
      "text/plain": [
       "[0.704985499382019, 0.465753436088562]"
      ]
     },
     "execution_count": 28,
     "metadata": {},
     "output_type": "execute_result"
    }
   ],
   "source": [
    "test_model = tf.keras.models.load_model('ETHBTC_without_TIs\\MLP_model')\n",
    "test_model.evaluate(Data.test)"
   ]
  },
  {
   "cell_type": "code",
   "execution_count": 30,
   "metadata": {},
   "outputs": [
    {
     "data": {
      "text/plain": [
       "<tf.Tensor: shape=(73,), dtype=int64, numpy=\n",
       "array([2, 2, 2, 2, 2, 2, 2, 2, 2, 2, 2, 2, 2, 2, 2, 2, 2, 2, 2, 2, 2, 2,\n",
       "       2, 2, 2, 2, 2, 2, 2, 2, 2, 2, 2, 2, 2, 2, 2, 2, 2, 2, 2, 2, 2, 2,\n",
       "       2, 2, 2, 2, 2, 2, 2, 2, 2, 2, 2, 2, 2, 2, 2, 2, 2, 2, 2, 2, 2, 2,\n",
       "       2, 2, 2, 2, 2, 2, 2], dtype=int64)>"
      ]
     },
     "execution_count": 30,
     "metadata": {},
     "output_type": "execute_result"
    }
   ],
   "source": [
    "tf.argmax(test_model.predict(Data.test), axis=1)"
   ]
  },
  {
   "cell_type": "code",
   "execution_count": 23,
   "metadata": {},
   "outputs": [
    {
     "data": {
      "text/plain": [
       "0    62\n",
       "2    34\n",
       "Name: Trend, dtype: int64"
      ]
     },
     "execution_count": 23,
     "metadata": {},
     "output_type": "execute_result"
    }
   ],
   "source": [
    "test_df.Trend.value_counts()"
   ]
  },
  {
   "cell_type": "code",
   "execution_count": null,
   "metadata": {},
   "outputs": [],
   "source": []
  }
 ],
 "metadata": {
  "interpreter": {
   "hash": "ac3da779536756720bc930bbdcbe3b303a716c4190960bb8b007750e7b6b7c5d"
  },
  "kernelspec": {
   "display_name": "Python 3.7.6 64-bit",
   "language": "python",
   "name": "python3"
  },
  "language_info": {
   "codemirror_mode": {
    "name": "ipython",
    "version": 3
   },
   "file_extension": ".py",
   "mimetype": "text/x-python",
   "name": "python",
   "nbconvert_exporter": "python",
   "pygments_lexer": "ipython3",
   "version": "3.7.6"
  },
  "orig_nbformat": 4
 },
 "nbformat": 4,
 "nbformat_minor": 2
}
