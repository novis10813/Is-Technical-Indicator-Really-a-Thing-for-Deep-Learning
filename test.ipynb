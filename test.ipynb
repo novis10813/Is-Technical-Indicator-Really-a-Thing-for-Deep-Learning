{
 "cells": [
  {
   "cell_type": "code",
   "execution_count": 1,
   "metadata": {},
   "outputs": [],
   "source": [
    "import tensorflow as tf\n",
    "import pandas as pd\n",
    "import numpy as np\n",
    "from utils.data_preprocess import *\n",
    "from models import *"
   ]
  },
  {
   "cell_type": "code",
   "execution_count": 2,
   "metadata": {},
   "outputs": [],
   "source": [
    "data = pd.read_csv('./data/ETHBTC-5m-data.csv')[:10000]\n",
    "# data = data_split(data, 3)[0]"
   ]
  },
  {
   "cell_type": "code",
   "execution_count": 3,
   "metadata": {},
   "outputs": [],
   "source": [
    "WINDOW_SIZE = 24\n",
    "raw_data = DataLabeling(data, WINDOW_SIZE)\n",
    "# train_df, val_df, test_df = train_val_test_split(raw_data.labelled_data, train_size=0.6, val_size=0.2, test_size=0.2)\n",
    "# Data = DataPreprocess(train_df, val_df, test_df, window_size=WINDOW_SIZE, label_size=1, label_columns=['Label'], shift=0, batch_size=8)"
   ]
  },
  {
   "cell_type": "code",
   "execution_count": 5,
   "metadata": {},
   "outputs": [],
   "source": [
    "train_data = Data.train.prefetch(tf.data.AUTOTUNE)\n",
    "val_data = Data.val.prefetch(tf.data.AUTOTUNE)"
   ]
  },
  {
   "cell_type": "code",
   "execution_count": 6,
   "metadata": {},
   "outputs": [],
   "source": [
    "strong_model = CDT_1D_model(WINDOW_SIZE, 5).model"
   ]
  },
  {
   "cell_type": "code",
   "execution_count": 7,
   "metadata": {},
   "outputs": [
    {
     "name": "stdout",
     "output_type": "stream",
     "text": [
      "Epoch 1/1000\n",
      "11337/11337 [==============================] - 106s 9ms/step - loss: 0.4398 - accuracy: 0.8863 - val_loss: 0.3998 - val_accuracy: 0.8982 - lr: 0.0010\n",
      "Epoch 2/1000\n",
      "11337/11337 [==============================] - 98s 9ms/step - loss: 0.4336 - accuracy: 0.8863 - val_loss: 0.3997 - val_accuracy: 0.8982 - lr: 0.0010\n",
      "Epoch 3/1000\n",
      " 2913/11337 [======>.......................] - ETA: 1:14 - loss: 0.5114 - accuracy: 0.8551"
     ]
    }
   ],
   "source": [
    "strong_model.fit(train_data,\n",
    "                 epochs=1000,\n",
    "                 validation_data=val_data,\n",
    "                 steps_per_epoch=len(train_data),\n",
    "                 validation_steps=int(0.15 * len(val_data)),\n",
    "                 callbacks=[tf.keras.callbacks.EarlyStopping(monitor='val_loss', patience=10),\n",
    "                            tf.keras.callbacks.ReduceLROnPlateau(monitor='val_loss', patience=3, factor=0.2)])"
   ]
  },
  {
   "cell_type": "code",
   "execution_count": 16,
   "metadata": {},
   "outputs": [
    {
     "name": "stdout",
     "output_type": "stream",
     "text": [
      "473/473 [==============================] - 3s 6ms/step - loss: 0.4326 - accuracy: 0.8865\n"
     ]
    },
    {
     "data": {
      "text/plain": [
       "[0.43261733651161194, 0.8864508867263794]"
      ]
     },
     "execution_count": 16,
     "metadata": {},
     "output_type": "execute_result"
    }
   ],
   "source": [
    "strong_model.evaluate(Data.test)"
   ]
  },
  {
   "cell_type": "code",
   "execution_count": 18,
   "metadata": {},
   "outputs": [
    {
     "name": "stdout",
     "output_type": "stream",
     "text": [
      "Epoch 1/1000\n",
      "1412/1418 [============================>.] - ETA: 0s - loss: 0.5295 - accuracy: 0.8858INFO:tensorflow:Assets written to: data_without_TIs\\MLP_model\\assets\n",
      "1418/1418 [==============================] - 16s 10ms/step - loss: 0.5291 - accuracy: 0.8858 - val_loss: 0.4028 - val_accuracy: 0.8980 - lr: 0.0010\n",
      "Epoch 2/1000\n",
      "1414/1418 [============================>.] - ETA: 0s - loss: 0.4456 - accuracy: 0.8864INFO:tensorflow:Assets written to: data_without_TIs\\MLP_model\\assets\n",
      "1418/1418 [==============================] - 16s 11ms/step - loss: 0.4456 - accuracy: 0.8863 - val_loss: 0.4019 - val_accuracy: 0.8980 - lr: 0.0010\n",
      "Epoch 3/1000\n",
      "1414/1418 [============================>.] - ETA: 0s - loss: 0.4358 - accuracy: 0.8864INFO:tensorflow:Assets written to: data_without_TIs\\MLP_model\\assets\n",
      "1418/1418 [==============================] - 15s 10ms/step - loss: 0.4359 - accuracy: 0.8863 - val_loss: 0.4014 - val_accuracy: 0.8980 - lr: 0.0010\n",
      "Epoch 4/1000\n",
      "1418/1418 [==============================] - ETA: 0s - loss: 0.4331 - accuracy: 0.8863INFO:tensorflow:Assets written to: data_without_TIs\\MLP_model\\assets\n",
      "1418/1418 [==============================] - 15s 11ms/step - loss: 0.4331 - accuracy: 0.8863 - val_loss: 0.4009 - val_accuracy: 0.8980 - lr: 0.0010\n",
      "Epoch 5/1000\n",
      "1414/1418 [============================>.] - ETA: 0s - loss: 0.4320 - accuracy: 0.8864INFO:tensorflow:Assets written to: data_without_TIs\\MLP_model\\assets\n",
      "1418/1418 [==============================] - 14s 10ms/step - loss: 0.4321 - accuracy: 0.8863 - val_loss: 0.4006 - val_accuracy: 0.8980 - lr: 0.0010\n",
      "Epoch 6/1000\n",
      "1418/1418 [==============================] - ETA: 0s - loss: 0.4319 - accuracy: 0.8863INFO:tensorflow:Assets written to: data_without_TIs\\MLP_model\\assets\n",
      "1418/1418 [==============================] - 16s 11ms/step - loss: 0.4319 - accuracy: 0.8863 - val_loss: 0.4004 - val_accuracy: 0.8980 - lr: 0.0010\n",
      "Epoch 7/1000\n",
      "1414/1418 [============================>.] - ETA: 0s - loss: 0.4317 - accuracy: 0.8864INFO:tensorflow:Assets written to: data_without_TIs\\MLP_model\\assets\n",
      "1418/1418 [==============================] - 15s 11ms/step - loss: 0.4318 - accuracy: 0.8863 - val_loss: 0.4003 - val_accuracy: 0.8980 - lr: 0.0010\n",
      "Epoch 8/1000\n",
      "1415/1418 [============================>.] - ETA: 0s - loss: 0.4315 - accuracy: 0.8864INFO:tensorflow:Assets written to: data_without_TIs\\MLP_model\\assets\n",
      "1418/1418 [==============================] - 15s 10ms/step - loss: 0.4316 - accuracy: 0.8863 - val_loss: 0.4003 - val_accuracy: 0.8980 - lr: 0.0010\n",
      "Epoch 9/1000\n",
      "1418/1418 [==============================] - ETA: 0s - loss: 0.4318 - accuracy: 0.8863INFO:tensorflow:Assets written to: data_without_TIs\\MLP_model\\assets\n",
      "1418/1418 [==============================] - 15s 11ms/step - loss: 0.4318 - accuracy: 0.8863 - val_loss: 0.4002 - val_accuracy: 0.8980 - lr: 0.0010\n",
      "Epoch 10/1000\n",
      "1418/1418 [==============================] - 13s 9ms/step - loss: 0.4318 - accuracy: 0.8863 - val_loss: 0.4002 - val_accuracy: 0.8980 - lr: 0.0010\n",
      "Epoch 11/1000\n",
      "1418/1418 [==============================] - 13s 9ms/step - loss: 0.4333 - accuracy: 0.8863 - val_loss: 0.4003 - val_accuracy: 0.8980 - lr: 2.0000e-04\n",
      "Epoch 12/1000\n",
      "1418/1418 [==============================] - 13s 9ms/step - loss: 0.4330 - accuracy: 0.8863 - val_loss: 0.4004 - val_accuracy: 0.8980 - lr: 2.0000e-04\n",
      "Epoch 13/1000\n",
      "1418/1418 [==============================] - 13s 9ms/step - loss: 0.4330 - accuracy: 0.8863 - val_loss: 0.4004 - val_accuracy: 0.8980 - lr: 2.0000e-04\n",
      "Epoch 14/1000\n",
      "1418/1418 [==============================] - 13s 9ms/step - loss: 0.4331 - accuracy: 0.8863 - val_loss: 0.4005 - val_accuracy: 0.8980 - lr: 4.0000e-05\n",
      "Epoch 15/1000\n",
      "1418/1418 [==============================] - 12s 9ms/step - loss: 0.4330 - accuracy: 0.8863 - val_loss: 0.4005 - val_accuracy: 0.8980 - lr: 4.0000e-05\n",
      "Epoch 16/1000\n",
      "1418/1418 [==============================] - 13s 9ms/step - loss: 0.4330 - accuracy: 0.8863 - val_loss: 0.4006 - val_accuracy: 0.8980 - lr: 4.0000e-05\n",
      "Epoch 17/1000\n",
      "1418/1418 [==============================] - 12s 9ms/step - loss: 0.4330 - accuracy: 0.8863 - val_loss: 0.4006 - val_accuracy: 0.8980 - lr: 8.0000e-06\n",
      "Epoch 18/1000\n",
      "1418/1418 [==============================] - 13s 9ms/step - loss: 0.4330 - accuracy: 0.8863 - val_loss: 0.4006 - val_accuracy: 0.8980 - lr: 8.0000e-06\n",
      "Epoch 19/1000\n",
      "1418/1418 [==============================] - 13s 9ms/step - loss: 0.4330 - accuracy: 0.8863 - val_loss: 0.4006 - val_accuracy: 0.8980 - lr: 8.0000e-06\n"
     ]
    },
    {
     "data": {
      "text/plain": [
       "<keras.callbacks.History at 0x18f894e6a08>"
      ]
     },
     "execution_count": 18,
     "metadata": {},
     "output_type": "execute_result"
    }
   ],
   "source": [
    "weak_model = MLP_model(WINDOW_SIZE, 5).model\n",
    "weak_model.fit(train_data,\n",
    "                 epochs=1000,\n",
    "                 validation_data=val_data,\n",
    "                 steps_per_epoch=len(train_data),\n",
    "                 validation_steps=int(0.15 * len(val_data)),\n",
    "                 callbacks=[tf.keras.callbacks.EarlyStopping(monitor='val_loss', patience=10),\n",
    "                            tf.keras.callbacks.ReduceLROnPlateau(monitor='val_loss', patience=3, factor=0.2),\n",
    "                            create_model_checkpoint(model_name=weak_model.name, save_path='data_without_TIs')])"
   ]
  },
  {
   "cell_type": "code",
   "execution_count": 19,
   "metadata": {},
   "outputs": [
    {
     "name": "stdout",
     "output_type": "stream",
     "text": [
      "473/473 [==============================] - 3s 7ms/step - loss: 0.4326 - accuracy: 0.8865\n"
     ]
    },
    {
     "data": {
      "text/plain": [
       "[0.432639479637146, 0.8864508867263794]"
      ]
     },
     "execution_count": 19,
     "metadata": {},
     "output_type": "execute_result"
    }
   ],
   "source": [
    "weak_model.evaluate(Data.test)"
   ]
  },
  {
   "cell_type": "code",
   "execution_count": 1,
   "metadata": {},
   "outputs": [],
   "source": [
    "from tensorflow.keras import Sequential, layers, Model, Input\n",
    "def model():\n",
    "    input = Input(shape=[24, 5])\n",
    "    x = layers.LSTM(300, return_sequences=True)(input)\n",
    "    x = layers.LSTM(200, return_sequences=True)(x)\n",
    "    x = layers.LSTM(100, return_sequences=True)(x)\n",
    "    x = layers.LSTM(50, return_sequences=True)(x)\n",
    "    x = layers.LSTM(20)(x)\n",
    "    x = layers.Dense(500, activation='relu')(x)\n",
    "    x = layers.Dropout(0.7)(x)\n",
    "    output = layers.Dense(3, activation='softmax')(x)\n",
    "    model = Model(input, output)\n",
    "    \n",
    "    model.compile(optimizer='adam', loss='sparse_categorical_crossentropy', metrics=['accuracy'])\n",
    "    return model"
   ]
  },
  {
   "cell_type": "code",
   "execution_count": 7,
   "metadata": {},
   "outputs": [
    {
     "name": "stdout",
     "output_type": "stream",
     "text": [
      "Epoch 1/5\n",
      "1418/1418 [==============================] - 48s 21ms/step - loss: 0.4419 - accuracy: 0.8861\n",
      "Epoch 2/5\n",
      "1418/1418 [==============================] - 32s 23ms/step - loss: 0.4377 - accuracy: 0.8863\n",
      "Epoch 3/5\n",
      "1418/1418 [==============================] - 30s 21ms/step - loss: 0.4360 - accuracy: 0.8863\n",
      "Epoch 4/5\n",
      "1418/1418 [==============================] - 31s 22ms/step - loss: 0.4353 - accuracy: 0.8863\n",
      "Epoch 5/5\n",
      "1418/1418 [==============================] - 34s 24ms/step - loss: 0.4347 - accuracy: 0.8863\n"
     ]
    },
    {
     "data": {
      "text/plain": [
       "<keras.callbacks.History at 0x1d0372116c8>"
      ]
     },
     "execution_count": 7,
     "metadata": {},
     "output_type": "execute_result"
    }
   ],
   "source": [
    "test = model()\n",
    "test.fit(train_data, epochs=5)"
   ]
  },
  {
   "cell_type": "markdown",
   "metadata": {},
   "source": [
    "# Backtest the strategy"
   ]
  },
  {
   "cell_type": "code",
   "execution_count": 4,
   "metadata": {},
   "outputs": [],
   "source": [
    "from backtesting import Backtest, Strategy\n",
    "from backtesting.lib import SignalStrategy"
   ]
  },
  {
   "cell_type": "code",
   "execution_count": 5,
   "metadata": {},
   "outputs": [],
   "source": [
    "data = raw_data.labelled_data"
   ]
  },
  {
   "cell_type": "code",
   "execution_count": 10,
   "metadata": {},
   "outputs": [],
   "source": [
    "class Threshold(SignalStrategy):\n",
    "    \n",
    "    def init(self):\n",
    "        super().init()\n",
    "        self.label = self.data.Label\n",
    "    \n",
    "    def next(self):\n",
    "        \n",
    "        if self.label == True:\n",
    "            self.buy()\n",
    "        elif self.label == False:\n",
    "            self.sell()\n",
    "        else:\n",
    "            pass"
   ]
  },
  {
   "cell_type": "code",
   "execution_count": 11,
   "metadata": {},
   "outputs": [],
   "source": [
    "test = Backtest(data, Threshold, cash=10000, commission=0.0005)"
   ]
  },
  {
   "cell_type": "code",
   "execution_count": 12,
   "metadata": {},
   "outputs": [
    {
     "data": {
      "text/plain": [
       "Start                     2017-07-14 04:00:00\n",
       "End                       2017-08-17 21:15:00\n",
       "Duration                     34 days 17:15:00\n",
       "Exposure Time [%]                       99.98\n",
       "Equity Final [$]                  3387.457659\n",
       "Equity Peak [$]                  29459.104279\n",
       "Return [%]                         -66.125423\n",
       "Buy & Hold Return [%]              -65.977368\n",
       "Return (Ann.) [%]                  -99.999996\n",
       "Volatility (Ann.) [%]     1614524983611127.25\n",
       "Sharpe Ratio                              0.0\n",
       "Sortino Ratio                             0.0\n",
       "Calmar Ratio                              0.0\n",
       "Max. Drawdown [%]                  -99.999992\n",
       "Avg. Drawdown [%]                  -11.985652\n",
       "Max. Drawdown Duration       29 days 23:20:00\n",
       "Avg. Drawdown Duration        1 days 19:31:00\n",
       "# Trades                                    4\n",
       "Win Rate [%]                             75.0\n",
       "Best Trade [%]                   22280.476428\n",
       "Worst Trade [%]                    -64.011294\n",
       "Avg. Trade [%]                     394.164423\n",
       "Max. Trade Duration          34 days 17:05:00\n",
       "Avg. Trade Duration          23 days 13:24:00\n",
       "Profit Factor                      354.606467\n",
       "Expectancy [%]                    5658.701891\n",
       "SQN                                 -0.999869\n",
       "_strategy                           Threshold\n",
       "_equity_curve                             ...\n",
       "_trades                       Size  EntryB...\n",
       "dtype: object"
      ]
     },
     "execution_count": 12,
     "metadata": {},
     "output_type": "execute_result"
    }
   ],
   "source": [
    "test.run()"
   ]
  },
  {
   "cell_type": "code",
   "execution_count": 13,
   "metadata": {},
   "outputs": [
    {
     "data": {
      "text/html": [
       "<div style=\"display: table;\"><div style=\"display: table-row;\"><div style=\"display: table-cell;\"><b title=\"bokeh.models.layouts.Row\">Row</b>(</div><div style=\"display: table-cell;\">id&nbsp;=&nbsp;'1854', <span id=\"2468\" style=\"cursor: pointer;\">&hellip;)</span></div></div><div class=\"2467\" style=\"display: none;\"><div style=\"display: table-cell;\"></div><div style=\"display: table-cell;\">align&nbsp;=&nbsp;'start',</div></div><div class=\"2467\" style=\"display: none;\"><div style=\"display: table-cell;\"></div><div style=\"display: table-cell;\">aspect_ratio&nbsp;=&nbsp;None,</div></div><div class=\"2467\" style=\"display: none;\"><div style=\"display: table-cell;\"></div><div style=\"display: table-cell;\">background&nbsp;=&nbsp;None,</div></div><div class=\"2467\" style=\"display: none;\"><div style=\"display: table-cell;\"></div><div style=\"display: table-cell;\">children&nbsp;=&nbsp;[GridBox(id='1851', ...), ToolbarBox(id='1853', ...)],</div></div><div class=\"2467\" style=\"display: none;\"><div style=\"display: table-cell;\"></div><div style=\"display: table-cell;\">cols&nbsp;=&nbsp;'auto',</div></div><div class=\"2467\" style=\"display: none;\"><div style=\"display: table-cell;\"></div><div style=\"display: table-cell;\">css_classes&nbsp;=&nbsp;[],</div></div><div class=\"2467\" style=\"display: none;\"><div style=\"display: table-cell;\"></div><div style=\"display: table-cell;\">disabled&nbsp;=&nbsp;False,</div></div><div class=\"2467\" style=\"display: none;\"><div style=\"display: table-cell;\"></div><div style=\"display: table-cell;\">height&nbsp;=&nbsp;None,</div></div><div class=\"2467\" style=\"display: none;\"><div style=\"display: table-cell;\"></div><div style=\"display: table-cell;\">height_policy&nbsp;=&nbsp;'auto',</div></div><div class=\"2467\" style=\"display: none;\"><div style=\"display: table-cell;\"></div><div style=\"display: table-cell;\">js_event_callbacks&nbsp;=&nbsp;{},</div></div><div class=\"2467\" style=\"display: none;\"><div style=\"display: table-cell;\"></div><div style=\"display: table-cell;\">js_property_callbacks&nbsp;=&nbsp;{},</div></div><div class=\"2467\" style=\"display: none;\"><div style=\"display: table-cell;\"></div><div style=\"display: table-cell;\">margin&nbsp;=&nbsp;(0, 0, 0, 0),</div></div><div class=\"2467\" style=\"display: none;\"><div style=\"display: table-cell;\"></div><div style=\"display: table-cell;\">max_height&nbsp;=&nbsp;None,</div></div><div class=\"2467\" style=\"display: none;\"><div style=\"display: table-cell;\"></div><div style=\"display: table-cell;\">max_width&nbsp;=&nbsp;None,</div></div><div class=\"2467\" style=\"display: none;\"><div style=\"display: table-cell;\"></div><div style=\"display: table-cell;\">min_height&nbsp;=&nbsp;None,</div></div><div class=\"2467\" style=\"display: none;\"><div style=\"display: table-cell;\"></div><div style=\"display: table-cell;\">min_width&nbsp;=&nbsp;None,</div></div><div class=\"2467\" style=\"display: none;\"><div style=\"display: table-cell;\"></div><div style=\"display: table-cell;\">name&nbsp;=&nbsp;None,</div></div><div class=\"2467\" style=\"display: none;\"><div style=\"display: table-cell;\"></div><div style=\"display: table-cell;\">sizing_mode&nbsp;=&nbsp;'stretch_width',</div></div><div class=\"2467\" style=\"display: none;\"><div style=\"display: table-cell;\"></div><div style=\"display: table-cell;\">spacing&nbsp;=&nbsp;0,</div></div><div class=\"2467\" style=\"display: none;\"><div style=\"display: table-cell;\"></div><div style=\"display: table-cell;\">subscribed_events&nbsp;=&nbsp;[],</div></div><div class=\"2467\" style=\"display: none;\"><div style=\"display: table-cell;\"></div><div style=\"display: table-cell;\">syncable&nbsp;=&nbsp;True,</div></div><div class=\"2467\" style=\"display: none;\"><div style=\"display: table-cell;\"></div><div style=\"display: table-cell;\">tags&nbsp;=&nbsp;[],</div></div><div class=\"2467\" style=\"display: none;\"><div style=\"display: table-cell;\"></div><div style=\"display: table-cell;\">visible&nbsp;=&nbsp;True,</div></div><div class=\"2467\" style=\"display: none;\"><div style=\"display: table-cell;\"></div><div style=\"display: table-cell;\">width&nbsp;=&nbsp;None,</div></div><div class=\"2467\" style=\"display: none;\"><div style=\"display: table-cell;\"></div><div style=\"display: table-cell;\">width_policy&nbsp;=&nbsp;'auto')</div></div></div>\n",
       "<script>\n",
       "(function() {\n",
       "  let expanded = false;\n",
       "  const ellipsis = document.getElementById(\"2468\");\n",
       "  ellipsis.addEventListener(\"click\", function() {\n",
       "    const rows = document.getElementsByClassName(\"2467\");\n",
       "    for (let i = 0; i < rows.length; i++) {\n",
       "      const el = rows[i];\n",
       "      el.style.display = expanded ? \"none\" : \"table-row\";\n",
       "    }\n",
       "    ellipsis.innerHTML = expanded ? \"&hellip;)\" : \"&lsaquo;&lsaquo;&lsaquo;\";\n",
       "    expanded = !expanded;\n",
       "  });\n",
       "})();\n",
       "</script>\n"
      ],
      "text/plain": [
       "Row(id='1854', ...)"
      ]
     },
     "execution_count": 13,
     "metadata": {},
     "output_type": "execute_result"
    }
   ],
   "source": [
    "test.plot()"
   ]
  },
  {
   "cell_type": "code",
   "execution_count": 14,
   "metadata": {},
   "outputs": [
    {
     "data": {
      "text/html": [
       "<div>\n",
       "<style scoped>\n",
       "    .dataframe tbody tr th:only-of-type {\n",
       "        vertical-align: middle;\n",
       "    }\n",
       "\n",
       "    .dataframe tbody tr th {\n",
       "        vertical-align: top;\n",
       "    }\n",
       "\n",
       "    .dataframe thead th {\n",
       "        text-align: right;\n",
       "    }\n",
       "</style>\n",
       "<table border=\"1\" class=\"dataframe\">\n",
       "  <thead>\n",
       "    <tr style=\"text-align: right;\">\n",
       "      <th></th>\n",
       "      <th>Open</th>\n",
       "      <th>High</th>\n",
       "      <th>Low</th>\n",
       "      <th>Close</th>\n",
       "      <th>Volume</th>\n",
       "      <th>Label</th>\n",
       "    </tr>\n",
       "  </thead>\n",
       "  <tbody>\n",
       "    <tr>\n",
       "      <th>2017-07-14 04:00:00</th>\n",
       "      <td>0.339259</td>\n",
       "      <td>0.336937</td>\n",
       "      <td>0.351856</td>\n",
       "      <td>0.338078</td>\n",
       "      <td>0.000824</td>\n",
       "      <td>True</td>\n",
       "    </tr>\n",
       "    <tr>\n",
       "      <th>2017-07-14 04:05:00</th>\n",
       "      <td>0.339259</td>\n",
       "      <td>0.336960</td>\n",
       "      <td>0.351856</td>\n",
       "      <td>0.338100</td>\n",
       "      <td>0.003800</td>\n",
       "      <td>1</td>\n",
       "    </tr>\n",
       "    <tr>\n",
       "      <th>2017-07-14 04:10:00</th>\n",
       "      <td>0.339282</td>\n",
       "      <td>0.482926</td>\n",
       "      <td>0.351879</td>\n",
       "      <td>0.483820</td>\n",
       "      <td>0.005313</td>\n",
       "      <td>1</td>\n",
       "    </tr>\n",
       "    <tr>\n",
       "      <th>2017-07-14 04:15:00</th>\n",
       "      <td>0.459491</td>\n",
       "      <td>0.465134</td>\n",
       "      <td>0.467038</td>\n",
       "      <td>0.454854</td>\n",
       "      <td>0.060665</td>\n",
       "      <td>1</td>\n",
       "    </tr>\n",
       "    <tr>\n",
       "      <th>2017-07-14 04:20:00</th>\n",
       "      <td>0.459150</td>\n",
       "      <td>0.473802</td>\n",
       "      <td>0.470317</td>\n",
       "      <td>0.474711</td>\n",
       "      <td>0.006331</td>\n",
       "      <td>1</td>\n",
       "    </tr>\n",
       "    <tr>\n",
       "      <th>...</th>\n",
       "      <td>...</td>\n",
       "      <td>...</td>\n",
       "      <td>...</td>\n",
       "      <td>...</td>\n",
       "      <td>...</td>\n",
       "      <td>...</td>\n",
       "    </tr>\n",
       "    <tr>\n",
       "      <th>2017-08-17 20:55:00</th>\n",
       "      <td>0.117754</td>\n",
       "      <td>0.119916</td>\n",
       "      <td>0.129287</td>\n",
       "      <td>0.119213</td>\n",
       "      <td>0.118388</td>\n",
       "      <td>1</td>\n",
       "    </tr>\n",
       "    <tr>\n",
       "      <th>2017-08-17 21:00:00</th>\n",
       "      <td>0.120777</td>\n",
       "      <td>0.120692</td>\n",
       "      <td>0.130702</td>\n",
       "      <td>0.119691</td>\n",
       "      <td>0.072164</td>\n",
       "      <td>1</td>\n",
       "    </tr>\n",
       "    <tr>\n",
       "      <th>2017-08-17 21:05:00</th>\n",
       "      <td>0.123233</td>\n",
       "      <td>0.120167</td>\n",
       "      <td>0.129984</td>\n",
       "      <td>0.117163</td>\n",
       "      <td>0.070841</td>\n",
       "      <td>1</td>\n",
       "    </tr>\n",
       "    <tr>\n",
       "      <th>2017-08-17 21:10:00</th>\n",
       "      <td>0.121073</td>\n",
       "      <td>0.123406</td>\n",
       "      <td>0.132814</td>\n",
       "      <td>0.117551</td>\n",
       "      <td>0.110817</td>\n",
       "      <td>1</td>\n",
       "    </tr>\n",
       "    <tr>\n",
       "      <th>2017-08-17 21:15:00</th>\n",
       "      <td>0.122164</td>\n",
       "      <td>0.119095</td>\n",
       "      <td>0.129984</td>\n",
       "      <td>0.115023</td>\n",
       "      <td>0.076897</td>\n",
       "      <td>1</td>\n",
       "    </tr>\n",
       "  </tbody>\n",
       "</table>\n",
       "<p>10000 rows × 6 columns</p>\n",
       "</div>"
      ],
      "text/plain": [
       "                         Open      High       Low     Close    Volume Label\n",
       "2017-07-14 04:00:00  0.339259  0.336937  0.351856  0.338078  0.000824  True\n",
       "2017-07-14 04:05:00  0.339259  0.336960  0.351856  0.338100  0.003800     1\n",
       "2017-07-14 04:10:00  0.339282  0.482926  0.351879  0.483820  0.005313     1\n",
       "2017-07-14 04:15:00  0.459491  0.465134  0.467038  0.454854  0.060665     1\n",
       "2017-07-14 04:20:00  0.459150  0.473802  0.470317  0.474711  0.006331     1\n",
       "...                       ...       ...       ...       ...       ...   ...\n",
       "2017-08-17 20:55:00  0.117754  0.119916  0.129287  0.119213  0.118388     1\n",
       "2017-08-17 21:00:00  0.120777  0.120692  0.130702  0.119691  0.072164     1\n",
       "2017-08-17 21:05:00  0.123233  0.120167  0.129984  0.117163  0.070841     1\n",
       "2017-08-17 21:10:00  0.121073  0.123406  0.132814  0.117551  0.110817     1\n",
       "2017-08-17 21:15:00  0.122164  0.119095  0.129984  0.115023  0.076897     1\n",
       "\n",
       "[10000 rows x 6 columns]"
      ]
     },
     "execution_count": 14,
     "metadata": {},
     "output_type": "execute_result"
    }
   ],
   "source": [
    "data"
   ]
  },
  {
   "cell_type": "code",
   "execution_count": null,
   "metadata": {},
   "outputs": [],
   "source": []
  }
 ],
 "metadata": {
  "interpreter": {
   "hash": "ac3da779536756720bc930bbdcbe3b303a716c4190960bb8b007750e7b6b7c5d"
  },
  "kernelspec": {
   "display_name": "Python 3.7.6 64-bit",
   "language": "python",
   "name": "python3"
  },
  "language_info": {
   "codemirror_mode": {
    "name": "ipython",
    "version": 3
   },
   "file_extension": ".py",
   "mimetype": "text/x-python",
   "name": "python",
   "nbconvert_exporter": "python",
   "pygments_lexer": "ipython3",
   "version": "3.7.6"
  },
  "orig_nbformat": 4
 },
 "nbformat": 4,
 "nbformat_minor": 2
}
