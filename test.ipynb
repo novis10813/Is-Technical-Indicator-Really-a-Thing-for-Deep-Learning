{
 "cells": [
  {
   "cell_type": "code",
   "execution_count": 1,
   "metadata": {},
   "outputs": [],
   "source": [
    "import tensorflow as tf\n",
    "import pandas as pd\n",
    "import numpy as np\n",
    "from utils.data_preprocess import *\n",
    "from models import *"
   ]
  },
  {
   "cell_type": "code",
   "execution_count": 2,
   "metadata": {},
   "outputs": [],
   "source": [
    "data = pd.read_csv('./data/ETHBTC-5m-data.csv')\n",
    "data = data_split(data, 3)[0]"
   ]
  },
  {
   "cell_type": "code",
   "execution_count": 3,
   "metadata": {},
   "outputs": [],
   "source": [
    "WINDOW_SIZE = 24"
   ]
  },
  {
   "cell_type": "code",
   "execution_count": 4,
   "metadata": {},
   "outputs": [],
   "source": [
    "raw_data = DataLabeling(data, WINDOW_SIZE)\n",
    "train_df, val_df, test_df = train_val_test_split(raw_data.labelled_data, train_size=0.6, val_size=0.2, test_size=0.2)\n",
    "Data = DataPreprocess(train_df, val_df, test_df, window_size=WINDOW_SIZE, label_size=1, label_columns=['Label'], shift=0, batch_size=8)"
   ]
  },
  {
   "cell_type": "code",
   "execution_count": 5,
   "metadata": {},
   "outputs": [],
   "source": [
    "train_data = Data.train.prefetch(tf.data.AUTOTUNE)\n",
    "val_data = Data.val.prefetch(tf.data.AUTOTUNE)"
   ]
  },
  {
   "cell_type": "code",
   "execution_count": 6,
   "metadata": {},
   "outputs": [],
   "source": [
    "strong_model = CDT_1D_model(WINDOW_SIZE, 5).model"
   ]
  },
  {
   "cell_type": "code",
   "execution_count": 7,
   "metadata": {},
   "outputs": [
    {
     "name": "stdout",
     "output_type": "stream",
     "text": [
      "Epoch 1/1000\n",
      "11337/11337 [==============================] - 106s 9ms/step - loss: 0.4398 - accuracy: 0.8863 - val_loss: 0.3998 - val_accuracy: 0.8982 - lr: 0.0010\n",
      "Epoch 2/1000\n",
      "11337/11337 [==============================] - 98s 9ms/step - loss: 0.4336 - accuracy: 0.8863 - val_loss: 0.3997 - val_accuracy: 0.8982 - lr: 0.0010\n",
      "Epoch 3/1000\n",
      " 2913/11337 [======>.......................] - ETA: 1:14 - loss: 0.5114 - accuracy: 0.8551"
     ]
    }
   ],
   "source": [
    "strong_model.fit(train_data,\n",
    "                 epochs=1000,\n",
    "                 validation_data=val_data,\n",
    "                 steps_per_epoch=len(train_data),\n",
    "                 validation_steps=int(0.15 * len(val_data)),\n",
    "                 callbacks=[tf.keras.callbacks.EarlyStopping(monitor='val_loss', patience=10),\n",
    "                            tf.keras.callbacks.ReduceLROnPlateau(monitor='val_loss', patience=3, factor=0.2)])"
   ]
  },
  {
   "cell_type": "code",
   "execution_count": 16,
   "metadata": {},
   "outputs": [
    {
     "name": "stdout",
     "output_type": "stream",
     "text": [
      "473/473 [==============================] - 3s 6ms/step - loss: 0.4326 - accuracy: 0.8865\n"
     ]
    },
    {
     "data": {
      "text/plain": [
       "[0.43261733651161194, 0.8864508867263794]"
      ]
     },
     "execution_count": 16,
     "metadata": {},
     "output_type": "execute_result"
    }
   ],
   "source": [
    "strong_model.evaluate(Data.test)"
   ]
  },
  {
   "cell_type": "code",
   "execution_count": 18,
   "metadata": {},
   "outputs": [
    {
     "name": "stdout",
     "output_type": "stream",
     "text": [
      "Epoch 1/1000\n",
      "1412/1418 [============================>.] - ETA: 0s - loss: 0.5295 - accuracy: 0.8858INFO:tensorflow:Assets written to: data_without_TIs\\MLP_model\\assets\n",
      "1418/1418 [==============================] - 16s 10ms/step - loss: 0.5291 - accuracy: 0.8858 - val_loss: 0.4028 - val_accuracy: 0.8980 - lr: 0.0010\n",
      "Epoch 2/1000\n",
      "1414/1418 [============================>.] - ETA: 0s - loss: 0.4456 - accuracy: 0.8864INFO:tensorflow:Assets written to: data_without_TIs\\MLP_model\\assets\n",
      "1418/1418 [==============================] - 16s 11ms/step - loss: 0.4456 - accuracy: 0.8863 - val_loss: 0.4019 - val_accuracy: 0.8980 - lr: 0.0010\n",
      "Epoch 3/1000\n",
      "1414/1418 [============================>.] - ETA: 0s - loss: 0.4358 - accuracy: 0.8864INFO:tensorflow:Assets written to: data_without_TIs\\MLP_model\\assets\n",
      "1418/1418 [==============================] - 15s 10ms/step - loss: 0.4359 - accuracy: 0.8863 - val_loss: 0.4014 - val_accuracy: 0.8980 - lr: 0.0010\n",
      "Epoch 4/1000\n",
      "1418/1418 [==============================] - ETA: 0s - loss: 0.4331 - accuracy: 0.8863INFO:tensorflow:Assets written to: data_without_TIs\\MLP_model\\assets\n",
      "1418/1418 [==============================] - 15s 11ms/step - loss: 0.4331 - accuracy: 0.8863 - val_loss: 0.4009 - val_accuracy: 0.8980 - lr: 0.0010\n",
      "Epoch 5/1000\n",
      "1414/1418 [============================>.] - ETA: 0s - loss: 0.4320 - accuracy: 0.8864INFO:tensorflow:Assets written to: data_without_TIs\\MLP_model\\assets\n",
      "1418/1418 [==============================] - 14s 10ms/step - loss: 0.4321 - accuracy: 0.8863 - val_loss: 0.4006 - val_accuracy: 0.8980 - lr: 0.0010\n",
      "Epoch 6/1000\n",
      "1418/1418 [==============================] - ETA: 0s - loss: 0.4319 - accuracy: 0.8863INFO:tensorflow:Assets written to: data_without_TIs\\MLP_model\\assets\n",
      "1418/1418 [==============================] - 16s 11ms/step - loss: 0.4319 - accuracy: 0.8863 - val_loss: 0.4004 - val_accuracy: 0.8980 - lr: 0.0010\n",
      "Epoch 7/1000\n",
      "1414/1418 [============================>.] - ETA: 0s - loss: 0.4317 - accuracy: 0.8864INFO:tensorflow:Assets written to: data_without_TIs\\MLP_model\\assets\n",
      "1418/1418 [==============================] - 15s 11ms/step - loss: 0.4318 - accuracy: 0.8863 - val_loss: 0.4003 - val_accuracy: 0.8980 - lr: 0.0010\n",
      "Epoch 8/1000\n",
      "1415/1418 [============================>.] - ETA: 0s - loss: 0.4315 - accuracy: 0.8864INFO:tensorflow:Assets written to: data_without_TIs\\MLP_model\\assets\n",
      "1418/1418 [==============================] - 15s 10ms/step - loss: 0.4316 - accuracy: 0.8863 - val_loss: 0.4003 - val_accuracy: 0.8980 - lr: 0.0010\n",
      "Epoch 9/1000\n",
      "1418/1418 [==============================] - ETA: 0s - loss: 0.4318 - accuracy: 0.8863INFO:tensorflow:Assets written to: data_without_TIs\\MLP_model\\assets\n",
      "1418/1418 [==============================] - 15s 11ms/step - loss: 0.4318 - accuracy: 0.8863 - val_loss: 0.4002 - val_accuracy: 0.8980 - lr: 0.0010\n",
      "Epoch 10/1000\n",
      "1418/1418 [==============================] - 13s 9ms/step - loss: 0.4318 - accuracy: 0.8863 - val_loss: 0.4002 - val_accuracy: 0.8980 - lr: 0.0010\n",
      "Epoch 11/1000\n",
      "1418/1418 [==============================] - 13s 9ms/step - loss: 0.4333 - accuracy: 0.8863 - val_loss: 0.4003 - val_accuracy: 0.8980 - lr: 2.0000e-04\n",
      "Epoch 12/1000\n",
      "1418/1418 [==============================] - 13s 9ms/step - loss: 0.4330 - accuracy: 0.8863 - val_loss: 0.4004 - val_accuracy: 0.8980 - lr: 2.0000e-04\n",
      "Epoch 13/1000\n",
      "1418/1418 [==============================] - 13s 9ms/step - loss: 0.4330 - accuracy: 0.8863 - val_loss: 0.4004 - val_accuracy: 0.8980 - lr: 2.0000e-04\n",
      "Epoch 14/1000\n",
      "1418/1418 [==============================] - 13s 9ms/step - loss: 0.4331 - accuracy: 0.8863 - val_loss: 0.4005 - val_accuracy: 0.8980 - lr: 4.0000e-05\n",
      "Epoch 15/1000\n",
      "1418/1418 [==============================] - 12s 9ms/step - loss: 0.4330 - accuracy: 0.8863 - val_loss: 0.4005 - val_accuracy: 0.8980 - lr: 4.0000e-05\n",
      "Epoch 16/1000\n",
      "1418/1418 [==============================] - 13s 9ms/step - loss: 0.4330 - accuracy: 0.8863 - val_loss: 0.4006 - val_accuracy: 0.8980 - lr: 4.0000e-05\n",
      "Epoch 17/1000\n",
      "1418/1418 [==============================] - 12s 9ms/step - loss: 0.4330 - accuracy: 0.8863 - val_loss: 0.4006 - val_accuracy: 0.8980 - lr: 8.0000e-06\n",
      "Epoch 18/1000\n",
      "1418/1418 [==============================] - 13s 9ms/step - loss: 0.4330 - accuracy: 0.8863 - val_loss: 0.4006 - val_accuracy: 0.8980 - lr: 8.0000e-06\n",
      "Epoch 19/1000\n",
      "1418/1418 [==============================] - 13s 9ms/step - loss: 0.4330 - accuracy: 0.8863 - val_loss: 0.4006 - val_accuracy: 0.8980 - lr: 8.0000e-06\n"
     ]
    },
    {
     "data": {
      "text/plain": [
       "<keras.callbacks.History at 0x18f894e6a08>"
      ]
     },
     "execution_count": 18,
     "metadata": {},
     "output_type": "execute_result"
    }
   ],
   "source": [
    "weak_model = MLP_model(WINDOW_SIZE, 5).model\n",
    "weak_model.fit(train_data,\n",
    "                 epochs=1000,\n",
    "                 validation_data=val_data,\n",
    "                 steps_per_epoch=len(train_data),\n",
    "                 validation_steps=int(0.15 * len(val_data)),\n",
    "                 callbacks=[tf.keras.callbacks.EarlyStopping(monitor='val_loss', patience=10),\n",
    "                            tf.keras.callbacks.ReduceLROnPlateau(monitor='val_loss', patience=3, factor=0.2),\n",
    "                            create_model_checkpoint(model_name=weak_model.name, save_path='data_without_TIs')])"
   ]
  },
  {
   "cell_type": "code",
   "execution_count": 19,
   "metadata": {},
   "outputs": [
    {
     "name": "stdout",
     "output_type": "stream",
     "text": [
      "473/473 [==============================] - 3s 7ms/step - loss: 0.4326 - accuracy: 0.8865\n"
     ]
    },
    {
     "data": {
      "text/plain": [
       "[0.432639479637146, 0.8864508867263794]"
      ]
     },
     "execution_count": 19,
     "metadata": {},
     "output_type": "execute_result"
    }
   ],
   "source": [
    "weak_model.evaluate(Data.test)"
   ]
  },
  {
   "cell_type": "code",
   "execution_count": 1,
   "metadata": {},
   "outputs": [],
   "source": [
    "from tensorflow.keras import Sequential, layers, Model, Input\n",
    "def model():\n",
    "    input = Input(shape=[24, 5])\n",
    "    x = layers.LSTM(300, return_sequences=True)(input)\n",
    "    x = layers.LSTM(200, return_sequences=True)(x)\n",
    "    x = layers.LSTM(100, return_sequences=True)(x)\n",
    "    x = layers.LSTM(50, return_sequences=True)(x)\n",
    "    x = layers.LSTM(20)(x)\n",
    "    x = layers.Dense(500, activation='relu')(x)\n",
    "    x = layers.Dropout(0.7)(x)\n",
    "    output = layers.Dense(3, activation='softmax')(x)\n",
    "    model = Model(input, output)\n",
    "    \n",
    "    model.compile(optimizer='adam', loss='sparse_categorical_crossentropy', metrics=['accuracy'])\n",
    "    return model"
   ]
  },
  {
   "cell_type": "code",
   "execution_count": 7,
   "metadata": {},
   "outputs": [
    {
     "name": "stdout",
     "output_type": "stream",
     "text": [
      "Epoch 1/5\n",
      "1418/1418 [==============================] - 48s 21ms/step - loss: 0.4419 - accuracy: 0.8861\n",
      "Epoch 2/5\n",
      "1418/1418 [==============================] - 32s 23ms/step - loss: 0.4377 - accuracy: 0.8863\n",
      "Epoch 3/5\n",
      "1418/1418 [==============================] - 30s 21ms/step - loss: 0.4360 - accuracy: 0.8863\n",
      "Epoch 4/5\n",
      "1418/1418 [==============================] - 31s 22ms/step - loss: 0.4353 - accuracy: 0.8863\n",
      "Epoch 5/5\n",
      "1418/1418 [==============================] - 34s 24ms/step - loss: 0.4347 - accuracy: 0.8863\n"
     ]
    },
    {
     "data": {
      "text/plain": [
       "<keras.callbacks.History at 0x1d0372116c8>"
      ]
     },
     "execution_count": 7,
     "metadata": {},
     "output_type": "execute_result"
    }
   ],
   "source": [
    "test = model()\n",
    "test.fit(train_data, epochs=5)"
   ]
  },
  {
   "cell_type": "code",
   "execution_count": 36,
   "metadata": {},
   "outputs": [],
   "source": [
    "class DataLabeling:\n",
    "    \"\"\"\n",
    "    This class will label the data with `Buy` `Sell` or `Hold` based on the dynamic threshold of log return.\n",
    "    Threshold:\n",
    "        if next period close price >= current close price * (1 + alpha * Volatility of last hour), tag it 'up' label\n",
    "        elif next period close price <= current close price * (1 - alpha * Volatility of last hour), tag it 'down' label\n",
    "        else tag it with 'flat'\n",
    "    Base on the three categories, we can detect the trend of the price movement.\n",
    "    When the tags change from 'down' to 'up' or 'flat' to 'up', it will enter a long trade with a tag of 'Buy',\n",
    "    and the tags change from 'up' to 'down' or 'flat' to 'down', it will enter a short trade with a tag of 'Sell',\n",
    "    otherwise, it will do nothing with a tag of 'Hold'.\n",
    "    \n",
    "    Also, it will automatically add features of technical indicators for you.\n",
    "    The TIs are based on TA-lib\n",
    "    \"\"\"\n",
    "    def __init__(self, data, window_size, alpha=0.55):\n",
    "        # initialize data and parameters\n",
    "        self.data = data.set_index('Timestamp').loc[:, ['Open', 'High', 'Low', 'Close', 'Volume']]\n",
    "        self.data = self.data.set_index('Timestamp')\n",
    "        self.data.index = pd.to_datetime(self.data.index)\n",
    "        \n",
    "        self.__alpha = alpha\n",
    "        self.__window_size = window_size\n",
    "    \n",
    "    def __make_label(self, data):\n",
    "        # Setup a Threshold for Buy, Sell, Hold Label\n",
    "        data['STD'] = data.Close.rolling(self.__window_size).std()\n",
    "        data['Next_Close'] = data.Close.shift(-self.__window_size)\n",
    "        data = data.fillna(0)\n",
    "        data = data.assign(Trend=data.apply(self.__func_2, axis=1))\n",
    "        # data['Trend'] = np.where(data.Next_Close >= data.Close*(1+self.__alpha*data.STD), 1,\n",
    "        #                               np.where(data.Next_Close <= data.Close*(1-self.__alpha*data.STD), 2, 0))\n",
    "        data['Previous_Trend'] = data.Trend.shift(fill_value=0)\n",
    "        # A cursed method\n",
    "        # for i in range(len(data)):\n",
    "        #     if data['Trend'][i] == 0:\n",
    "        #         data['Label'] = 'Hold'\n",
    "                \n",
    "        #     elif data['Trend'][i] == 1:\n",
    "        #         if data['Previous_Trend'][i] == 0:\n",
    "        #             data['Label'] = 'Buy'\n",
    "        #         elif data['Previous_Trend'][i] == -1:\n",
    "        #             data['Label'] = 'Buy'\n",
    "        #         else:\n",
    "        #             data['Label'] = 'Hold'\n",
    "            \n",
    "        #     elif data['Trend'][i] == -1:\n",
    "        #         if data['Previous_Trend'][i] == 0:\n",
    "        #             data['Label'] = 'Sell'\n",
    "        #         elif data['Previous_Trend'][i] == -1:\n",
    "        #             data['Label'] = 'Hold'\n",
    "        #         else:\n",
    "        #             data['Label'] = 'Sell'\n",
    "        \n",
    "        # data['Label'] = np.where(data.Trend > data.Previous_Trend, 'Buy',\n",
    "        #                          np.where(data.Trend < data.Previous_Trend, 'Sell', 'Hold'))\n",
    "        # There will be problems using this function under some situations,  like Trend is 0 and Previous_Trend is -1, so the label will be `Buy`,\n",
    "        # however, if the next Trend is -1, it says that the price is keeping going down, so you actually should not buy at that time.\n",
    "        data = data.assign(Label=data.apply(self.__func, axis=1))\n",
    "        data = data.dropna().drop(['Next_Close','STD','Trend', 'Previous_Trend'], axis=1)\n",
    "        \n",
    "        # Normalized the data\n",
    "        scaler = MinMaxScaler()\n",
    "        data.iloc[:, :-1] = scaler.fit_transform(data.iloc[:, :-1])\n",
    "        return data\n",
    "    \n",
    "    def __func(self, df):\n",
    "        if (df['Trend'] == 0) or (df['Trend'] == 1 and df['Previous_Trend'] == 1) or (df['Trend'] == 2 and df['Previous_Trend'] == 2):\n",
    "            return 0\n",
    "        elif (df['Trend'] == 1) and (df['Previous_Trend'] == 0 or 2):\n",
    "            return 1\n",
    "        elif (df['Trend'] == 2) and (df['Previous_Trend'] == 0 or 1):\n",
    "            return 2\n",
    "    \n",
    "    def __func_2(self, df):\n",
    "        if df.Next_Close >= df.Close*(1+self.__alpha*df.STD):\n",
    "            return 1\n",
    "        elif df.Next_Close <= df.Close*(1-self.__alpha*df.STD):\n",
    "            return 2\n",
    "        else:\n",
    "            return 0\n",
    "    \n",
    "    @property\n",
    "    def labelled_data(self):\n",
    "        return self.__make_label(self.data)"
   ]
  },
  {
   "cell_type": "code",
   "execution_count": 37,
   "metadata": {},
   "outputs": [],
   "source": [
    "from backtesting import Backtest, Strategy\n",
    "from backtesting.lib import SignalStrategy"
   ]
  },
  {
   "cell_type": "code",
   "execution_count": 2,
   "metadata": {},
   "outputs": [],
   "source": [
    "class Threshold(Strategy):\n",
    "    \n",
    "    window_size = 24\n",
    "    alpha = 0.55\n",
    "    \n",
    "    def init(self):\n",
    "        super().init()\n",
    "        close = pd.Series(self.data.Close)\n",
    "        next_close = close.shift(fill_value=0)\n",
    "        # trend = \n",
    "        \n",
    "    \n",
    "    def next(self):\n",
    "        if (self.data['Trend'] == 0) or (self.data['Trend'] == 1 and self.data['Previous_Trend'] == 1) or (self.data['Trend'] == 2 and self.data['Previous_Trend'] == 2):\n",
    "            pass\n",
    "        elif (self.data['Trend'] == 1) and (self.data['Previous_Trend'] == 0 or 2):\n",
    "            self.buy()\n",
    "        elif (self.data['Trend'] == 2) and (self.data['Previous_Trend'] == 0 or 1):\n",
    "            self.sell()\n",
    "    \n",
    "    def __func_2(self, df):\n",
    "        if df.Next_Close >= df.Close*(1+self.__alpha*df.STD):\n",
    "            return 1\n",
    "        elif df.Next_Close <= df.Close*(1-self.__alpha*df.STD):\n",
    "            return 2\n",
    "        else:\n",
    "            return 0"
   ]
  },
  {
   "cell_type": "code",
   "execution_count": 30,
   "metadata": {},
   "outputs": [
    {
     "data": {
      "text/html": [
       "<div>\n",
       "<style scoped>\n",
       "    .dataframe tbody tr th:only-of-type {\n",
       "        vertical-align: middle;\n",
       "    }\n",
       "\n",
       "    .dataframe tbody tr th {\n",
       "        vertical-align: top;\n",
       "    }\n",
       "\n",
       "    .dataframe thead th {\n",
       "        text-align: right;\n",
       "    }\n",
       "</style>\n",
       "<table border=\"1\" class=\"dataframe\">\n",
       "  <thead>\n",
       "    <tr style=\"text-align: right;\">\n",
       "      <th></th>\n",
       "      <th>Open</th>\n",
       "      <th>High</th>\n",
       "      <th>Low</th>\n",
       "      <th>Close</th>\n",
       "      <th>Volume</th>\n",
       "    </tr>\n",
       "    <tr>\n",
       "      <th>Timestamp</th>\n",
       "      <th></th>\n",
       "      <th></th>\n",
       "      <th></th>\n",
       "      <th></th>\n",
       "      <th></th>\n",
       "    </tr>\n",
       "  </thead>\n",
       "  <tbody>\n",
       "    <tr>\n",
       "      <th>2017-07-14 04:00:00</th>\n",
       "      <td>0.080000</td>\n",
       "      <td>0.080000</td>\n",
       "      <td>0.080000</td>\n",
       "      <td>0.080000</td>\n",
       "      <td>0.7260</td>\n",
       "    </tr>\n",
       "    <tr>\n",
       "      <th>2017-07-14 04:05:00</th>\n",
       "      <td>0.080000</td>\n",
       "      <td>0.080001</td>\n",
       "      <td>0.080000</td>\n",
       "      <td>0.080001</td>\n",
       "      <td>3.3470</td>\n",
       "    </tr>\n",
       "    <tr>\n",
       "      <th>2017-07-14 04:10:00</th>\n",
       "      <td>0.080001</td>\n",
       "      <td>0.086400</td>\n",
       "      <td>0.080001</td>\n",
       "      <td>0.086400</td>\n",
       "      <td>4.6790</td>\n",
       "    </tr>\n",
       "    <tr>\n",
       "      <th>2017-07-14 04:15:00</th>\n",
       "      <td>0.085289</td>\n",
       "      <td>0.085620</td>\n",
       "      <td>0.085128</td>\n",
       "      <td>0.085128</td>\n",
       "      <td>53.4310</td>\n",
       "    </tr>\n",
       "    <tr>\n",
       "      <th>2017-07-14 04:20:00</th>\n",
       "      <td>0.085274</td>\n",
       "      <td>0.086000</td>\n",
       "      <td>0.085274</td>\n",
       "      <td>0.086000</td>\n",
       "      <td>5.5760</td>\n",
       "    </tr>\n",
       "    <tr>\n",
       "      <th>...</th>\n",
       "      <td>...</td>\n",
       "      <td>...</td>\n",
       "      <td>...</td>\n",
       "      <td>...</td>\n",
       "      <td>...</td>\n",
       "    </tr>\n",
       "    <tr>\n",
       "      <th>2021-11-10 12:55:00</th>\n",
       "      <td>0.070895</td>\n",
       "      <td>0.070950</td>\n",
       "      <td>0.070834</td>\n",
       "      <td>0.070935</td>\n",
       "      <td>196.3651</td>\n",
       "    </tr>\n",
       "    <tr>\n",
       "      <th>2021-11-10 13:00:00</th>\n",
       "      <td>0.070934</td>\n",
       "      <td>0.070958</td>\n",
       "      <td>0.070842</td>\n",
       "      <td>0.070907</td>\n",
       "      <td>193.0658</td>\n",
       "    </tr>\n",
       "    <tr>\n",
       "      <th>2021-11-10 13:05:00</th>\n",
       "      <td>0.070908</td>\n",
       "      <td>0.071010</td>\n",
       "      <td>0.070894</td>\n",
       "      <td>0.070997</td>\n",
       "      <td>143.4881</td>\n",
       "    </tr>\n",
       "    <tr>\n",
       "      <th>2021-11-10 13:10:00</th>\n",
       "      <td>0.070998</td>\n",
       "      <td>0.071052</td>\n",
       "      <td>0.070967</td>\n",
       "      <td>0.071047</td>\n",
       "      <td>106.6444</td>\n",
       "    </tr>\n",
       "    <tr>\n",
       "      <th>2021-11-10 13:15:00</th>\n",
       "      <td>0.071048</td>\n",
       "      <td>0.071104</td>\n",
       "      <td>0.071035</td>\n",
       "      <td>0.071051</td>\n",
       "      <td>117.1879</td>\n",
       "    </tr>\n",
       "  </tbody>\n",
       "</table>\n",
       "<p>453585 rows × 5 columns</p>\n",
       "</div>"
      ],
      "text/plain": [
       "                         Open      High       Low     Close    Volume\n",
       "Timestamp                                                            \n",
       "2017-07-14 04:00:00  0.080000  0.080000  0.080000  0.080000    0.7260\n",
       "2017-07-14 04:05:00  0.080000  0.080001  0.080000  0.080001    3.3470\n",
       "2017-07-14 04:10:00  0.080001  0.086400  0.080001  0.086400    4.6790\n",
       "2017-07-14 04:15:00  0.085289  0.085620  0.085128  0.085128   53.4310\n",
       "2017-07-14 04:20:00  0.085274  0.086000  0.085274  0.086000    5.5760\n",
       "...                       ...       ...       ...       ...       ...\n",
       "2021-11-10 12:55:00  0.070895  0.070950  0.070834  0.070935  196.3651\n",
       "2021-11-10 13:00:00  0.070934  0.070958  0.070842  0.070907  193.0658\n",
       "2021-11-10 13:05:00  0.070908  0.071010  0.070894  0.070997  143.4881\n",
       "2021-11-10 13:10:00  0.070998  0.071052  0.070967  0.071047  106.6444\n",
       "2021-11-10 13:15:00  0.071048  0.071104  0.071035  0.071051  117.1879\n",
       "\n",
       "[453585 rows x 5 columns]"
      ]
     },
     "execution_count": 30,
     "metadata": {},
     "output_type": "execute_result"
    }
   ],
   "source": [
    "import pandas as pd\n",
    "df = pd.read_csv('data\\ETHBTC-5m-data.csv').iloc[:, :6]\n",
    "df = df.set_index('Timestamp')\n",
    "df.index = pd.to_datetime(df.index)\n",
    "df"
   ]
  },
  {
   "cell_type": "code",
   "execution_count": 31,
   "metadata": {},
   "outputs": [],
   "source": [
    "test = Backtest(df, Threshold, cash=100, commission=0.0005)"
   ]
  },
  {
   "cell_type": "code",
   "execution_count": 32,
   "metadata": {},
   "outputs": [
    {
     "ename": "AttributeError",
     "evalue": "'_Array' object has no attribute 'rolling'",
     "output_type": "error",
     "traceback": [
      "\u001b[1;31m---------------------------------------------------------------------------\u001b[0m",
      "\u001b[1;31mAttributeError\u001b[0m                            Traceback (most recent call last)",
      "\u001b[1;32m<ipython-input-32-66028de9597a>\u001b[0m in \u001b[0;36m<module>\u001b[1;34m\u001b[0m\n\u001b[1;32m----> 1\u001b[1;33m \u001b[0mresult\u001b[0m \u001b[1;33m=\u001b[0m \u001b[0mtest\u001b[0m\u001b[1;33m.\u001b[0m\u001b[0mrun\u001b[0m\u001b[1;33m(\u001b[0m\u001b[1;33m)\u001b[0m\u001b[1;33m\u001b[0m\u001b[1;33m\u001b[0m\u001b[0m\n\u001b[0m",
      "\u001b[1;32m~\\AppData\\Local\\Programs\\Python\\Python36\\lib\\site-packages\\backtesting\\backtesting.py\u001b[0m in \u001b[0;36mrun\u001b[1;34m(self, **kwargs)\u001b[0m\n\u001b[0;32m   1132\u001b[0m         \u001b[0mstrategy\u001b[0m\u001b[1;33m:\u001b[0m \u001b[0mStrategy\u001b[0m \u001b[1;33m=\u001b[0m \u001b[0mself\u001b[0m\u001b[1;33m.\u001b[0m\u001b[0m_strategy\u001b[0m\u001b[1;33m(\u001b[0m\u001b[0mbroker\u001b[0m\u001b[1;33m,\u001b[0m \u001b[0mdata\u001b[0m\u001b[1;33m,\u001b[0m \u001b[0mkwargs\u001b[0m\u001b[1;33m)\u001b[0m\u001b[1;33m\u001b[0m\u001b[1;33m\u001b[0m\u001b[0m\n\u001b[0;32m   1133\u001b[0m \u001b[1;33m\u001b[0m\u001b[0m\n\u001b[1;32m-> 1134\u001b[1;33m         \u001b[0mstrategy\u001b[0m\u001b[1;33m.\u001b[0m\u001b[0minit\u001b[0m\u001b[1;33m(\u001b[0m\u001b[1;33m)\u001b[0m\u001b[1;33m\u001b[0m\u001b[1;33m\u001b[0m\u001b[0m\n\u001b[0m\u001b[0;32m   1135\u001b[0m         \u001b[0mdata\u001b[0m\u001b[1;33m.\u001b[0m\u001b[0m_update\u001b[0m\u001b[1;33m(\u001b[0m\u001b[1;33m)\u001b[0m  \u001b[1;31m# Strategy.init might have changed/added to data.df\u001b[0m\u001b[1;33m\u001b[0m\u001b[1;33m\u001b[0m\u001b[0m\n\u001b[0;32m   1136\u001b[0m \u001b[1;33m\u001b[0m\u001b[0m\n",
      "\u001b[1;32m<ipython-input-2-a5c66126623d>\u001b[0m in \u001b[0;36minit\u001b[1;34m(self)\u001b[0m\n\u001b[0;32m      5\u001b[0m \u001b[1;33m\u001b[0m\u001b[0m\n\u001b[0;32m      6\u001b[0m     \u001b[1;32mdef\u001b[0m \u001b[0minit\u001b[0m\u001b[1;33m(\u001b[0m\u001b[0mself\u001b[0m\u001b[1;33m)\u001b[0m\u001b[1;33m:\u001b[0m\u001b[1;33m\u001b[0m\u001b[1;33m\u001b[0m\u001b[0m\n\u001b[1;32m----> 7\u001b[1;33m         \u001b[0mself\u001b[0m\u001b[1;33m.\u001b[0m\u001b[0mdata\u001b[0m\u001b[1;33m[\u001b[0m\u001b[1;34m'STD'\u001b[0m\u001b[1;33m]\u001b[0m \u001b[1;33m=\u001b[0m \u001b[0mself\u001b[0m\u001b[1;33m.\u001b[0m\u001b[0mdata\u001b[0m\u001b[1;33m.\u001b[0m\u001b[0mClose\u001b[0m\u001b[1;33m.\u001b[0m\u001b[0mrolling\u001b[0m\u001b[1;33m(\u001b[0m\u001b[0mself\u001b[0m\u001b[1;33m.\u001b[0m\u001b[0mwindow_size\u001b[0m\u001b[1;33m)\u001b[0m\u001b[1;33m.\u001b[0m\u001b[0mstd\u001b[0m\u001b[1;33m(\u001b[0m\u001b[1;33m)\u001b[0m\u001b[1;33m\u001b[0m\u001b[1;33m\u001b[0m\u001b[0m\n\u001b[0m\u001b[0;32m      8\u001b[0m         \u001b[0mself\u001b[0m\u001b[1;33m.\u001b[0m\u001b[0mdata\u001b[0m\u001b[1;33m[\u001b[0m\u001b[1;34m'Next_Close'\u001b[0m\u001b[1;33m]\u001b[0m \u001b[1;33m=\u001b[0m \u001b[0mself\u001b[0m\u001b[1;33m.\u001b[0m\u001b[0mdata\u001b[0m\u001b[1;33m.\u001b[0m\u001b[0mClose\u001b[0m\u001b[1;33m.\u001b[0m\u001b[0mshift\u001b[0m\u001b[1;33m(\u001b[0m\u001b[1;33m-\u001b[0m\u001b[0mself\u001b[0m\u001b[1;33m.\u001b[0m\u001b[0mwindow_size\u001b[0m\u001b[1;33m)\u001b[0m\u001b[1;33m\u001b[0m\u001b[1;33m\u001b[0m\u001b[0m\n\u001b[0;32m      9\u001b[0m         \u001b[0mself\u001b[0m\u001b[1;33m.\u001b[0m\u001b[0mdata\u001b[0m \u001b[1;33m=\u001b[0m \u001b[0mself\u001b[0m\u001b[1;33m.\u001b[0m\u001b[0mdata\u001b[0m\u001b[1;33m.\u001b[0m\u001b[0mfillna\u001b[0m\u001b[1;33m(\u001b[0m\u001b[1;36m0\u001b[0m\u001b[1;33m)\u001b[0m\u001b[1;33m\u001b[0m\u001b[1;33m\u001b[0m\u001b[0m\n",
      "\u001b[1;31mAttributeError\u001b[0m: '_Array' object has no attribute 'rolling'"
     ]
    }
   ],
   "source": [
    "result = test.run()"
   ]
  },
  {
   "cell_type": "code",
   "execution_count": 34,
   "metadata": {},
   "outputs": [],
   "source": [
    "a = df.Close.values"
   ]
  },
  {
   "cell_type": "code",
   "execution_count": 35,
   "metadata": {},
   "outputs": [
    {
     "ename": "AttributeError",
     "evalue": "'numpy.ndarray' object has no attribute 'rolling'",
     "output_type": "error",
     "traceback": [
      "\u001b[1;31m---------------------------------------------------------------------------\u001b[0m",
      "\u001b[1;31mAttributeError\u001b[0m                            Traceback (most recent call last)",
      "\u001b[1;32m<ipython-input-35-4c37f35ea01e>\u001b[0m in \u001b[0;36m<module>\u001b[1;34m\u001b[0m\n\u001b[1;32m----> 1\u001b[1;33m \u001b[0ma\u001b[0m\u001b[1;33m.\u001b[0m\u001b[0mrolling\u001b[0m\u001b[1;33m(\u001b[0m\u001b[1;33m)\u001b[0m\u001b[1;33m\u001b[0m\u001b[1;33m\u001b[0m\u001b[0m\n\u001b[0m",
      "\u001b[1;31mAttributeError\u001b[0m: 'numpy.ndarray' object has no attribute 'rolling'"
     ]
    }
   ],
   "source": [
    "a.rolling()"
   ]
  },
  {
   "cell_type": "code",
   "execution_count": null,
   "metadata": {},
   "outputs": [],
   "source": []
  }
 ],
 "metadata": {
  "interpreter": {
   "hash": "ac3da779536756720bc930bbdcbe3b303a716c4190960bb8b007750e7b6b7c5d"
  },
  "kernelspec": {
   "display_name": "Python 3.7.6 64-bit",
   "language": "python",
   "name": "python3"
  },
  "language_info": {
   "codemirror_mode": {
    "name": "ipython",
    "version": 3
   },
   "file_extension": ".py",
   "mimetype": "text/x-python",
   "name": "python",
   "nbconvert_exporter": "python",
   "pygments_lexer": "ipython3",
   "version": "3.6.8"
  },
  "orig_nbformat": 4
 },
 "nbformat": 4,
 "nbformat_minor": 2
}
