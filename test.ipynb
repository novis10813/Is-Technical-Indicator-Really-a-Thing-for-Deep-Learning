{
 "cells": [
  {
   "cell_type": "code",
   "execution_count": 1,
   "metadata": {},
   "outputs": [],
   "source": [
    "from utils.data_preprocess import *\n",
    "import pandas as pd\n",
    "import numpy as np\n",
    "import tensorflow as tf"
   ]
  },
  {
   "cell_type": "code",
   "execution_count": 116,
   "metadata": {},
   "outputs": [],
   "source": [
    "df = pd.read_csv('ETHBTC-5m-data.csv')"
   ]
  },
  {
   "cell_type": "code",
   "execution_count": 117,
   "metadata": {},
   "outputs": [],
   "source": [
    "data = df.set_index('Timestamp').iloc[:, :5]"
   ]
  },
  {
   "cell_type": "code",
   "execution_count": 120,
   "metadata": {},
   "outputs": [],
   "source": [
    "data['Log_return'] = np.log(data.Close).diff()\n",
    "data['Log_return+1'] = data.Log_return.shift(-24)\n",
    "data['STD'] = data.Close.rolling(10).std()"
   ]
  },
  {
   "cell_type": "code",
   "execution_count": 114,
   "metadata": {},
   "outputs": [],
   "source": [
    "data = data.dropna()"
   ]
  },
  {
   "cell_type": "code",
   "execution_count": 121,
   "metadata": {},
   "outputs": [
    {
     "data": {
      "text/html": [
       "<div>\n",
       "<style scoped>\n",
       "    .dataframe tbody tr th:only-of-type {\n",
       "        vertical-align: middle;\n",
       "    }\n",
       "\n",
       "    .dataframe tbody tr th {\n",
       "        vertical-align: top;\n",
       "    }\n",
       "\n",
       "    .dataframe thead th {\n",
       "        text-align: right;\n",
       "    }\n",
       "</style>\n",
       "<table border=\"1\" class=\"dataframe\">\n",
       "  <thead>\n",
       "    <tr style=\"text-align: right;\">\n",
       "      <th></th>\n",
       "      <th>Open</th>\n",
       "      <th>High</th>\n",
       "      <th>Low</th>\n",
       "      <th>Close</th>\n",
       "      <th>Volume</th>\n",
       "      <th>Log_return</th>\n",
       "      <th>Log_return+1</th>\n",
       "      <th>STD</th>\n",
       "    </tr>\n",
       "    <tr>\n",
       "      <th>Timestamp</th>\n",
       "      <th></th>\n",
       "      <th></th>\n",
       "      <th></th>\n",
       "      <th></th>\n",
       "      <th></th>\n",
       "      <th></th>\n",
       "      <th></th>\n",
       "      <th></th>\n",
       "    </tr>\n",
       "  </thead>\n",
       "  <tbody>\n",
       "    <tr>\n",
       "      <th>2017-07-14 04:00:00</th>\n",
       "      <td>0.080000</td>\n",
       "      <td>0.080000</td>\n",
       "      <td>0.080000</td>\n",
       "      <td>0.080000</td>\n",
       "      <td>0.726</td>\n",
       "      <td>NaN</td>\n",
       "      <td>0.000714</td>\n",
       "      <td>NaN</td>\n",
       "    </tr>\n",
       "    <tr>\n",
       "      <th>2017-07-14 04:05:00</th>\n",
       "      <td>0.080000</td>\n",
       "      <td>0.080001</td>\n",
       "      <td>0.080000</td>\n",
       "      <td>0.080001</td>\n",
       "      <td>3.347</td>\n",
       "      <td>0.000012</td>\n",
       "      <td>0.008459</td>\n",
       "      <td>NaN</td>\n",
       "    </tr>\n",
       "    <tr>\n",
       "      <th>2017-07-14 04:10:00</th>\n",
       "      <td>0.080001</td>\n",
       "      <td>0.086400</td>\n",
       "      <td>0.080001</td>\n",
       "      <td>0.086400</td>\n",
       "      <td>4.679</td>\n",
       "      <td>0.076949</td>\n",
       "      <td>0.009090</td>\n",
       "      <td>NaN</td>\n",
       "    </tr>\n",
       "    <tr>\n",
       "      <th>2017-07-14 04:15:00</th>\n",
       "      <td>0.085289</td>\n",
       "      <td>0.085620</td>\n",
       "      <td>0.085128</td>\n",
       "      <td>0.085128</td>\n",
       "      <td>53.431</td>\n",
       "      <td>-0.014832</td>\n",
       "      <td>-0.000851</td>\n",
       "      <td>NaN</td>\n",
       "    </tr>\n",
       "    <tr>\n",
       "      <th>2017-07-14 04:20:00</th>\n",
       "      <td>0.085274</td>\n",
       "      <td>0.086000</td>\n",
       "      <td>0.085274</td>\n",
       "      <td>0.086000</td>\n",
       "      <td>5.576</td>\n",
       "      <td>0.010191</td>\n",
       "      <td>0.002276</td>\n",
       "      <td>NaN</td>\n",
       "    </tr>\n",
       "  </tbody>\n",
       "</table>\n",
       "</div>"
      ],
      "text/plain": [
       "                         Open      High       Low     Close  Volume  \\\n",
       "Timestamp                                                             \n",
       "2017-07-14 04:00:00  0.080000  0.080000  0.080000  0.080000   0.726   \n",
       "2017-07-14 04:05:00  0.080000  0.080001  0.080000  0.080001   3.347   \n",
       "2017-07-14 04:10:00  0.080001  0.086400  0.080001  0.086400   4.679   \n",
       "2017-07-14 04:15:00  0.085289  0.085620  0.085128  0.085128  53.431   \n",
       "2017-07-14 04:20:00  0.085274  0.086000  0.085274  0.086000   5.576   \n",
       "\n",
       "                     Log_return  Log_return+1  STD  \n",
       "Timestamp                                           \n",
       "2017-07-14 04:00:00         NaN      0.000714  NaN  \n",
       "2017-07-14 04:05:00    0.000012      0.008459  NaN  \n",
       "2017-07-14 04:10:00    0.076949      0.009090  NaN  \n",
       "2017-07-14 04:15:00   -0.014832     -0.000851  NaN  \n",
       "2017-07-14 04:20:00    0.010191      0.002276  NaN  "
      ]
     },
     "execution_count": 121,
     "metadata": {},
     "output_type": "execute_result"
    }
   ],
   "source": [
    "data.head()"
   ]
  },
  {
   "cell_type": "code",
   "execution_count": 109,
   "metadata": {},
   "outputs": [],
   "source": [
    "# data['Trend'] = np.where(data['Log_return+1'] >= data['Log_return']*(1 + 0.55*data['STD']), 1,\n",
    "#                          (np.where(data['Log_return+1'] <= data['Log_return']*(1 - 0.55*data['STD']), -1, 0)))"
   ]
  }
 ],
 "metadata": {
  "interpreter": {
   "hash": "ac3da779536756720bc930bbdcbe3b303a716c4190960bb8b007750e7b6b7c5d"
  },
  "kernelspec": {
   "display_name": "Python 3.7.6 64-bit",
   "language": "python",
   "name": "python3"
  },
  "language_info": {
   "codemirror_mode": {
    "name": "ipython",
    "version": 3
   },
   "file_extension": ".py",
   "mimetype": "text/x-python",
   "name": "python",
   "nbconvert_exporter": "python",
   "pygments_lexer": "ipython3",
   "version": "3.7.6"
  },
  "orig_nbformat": 4
 },
 "nbformat": 4,
 "nbformat_minor": 2
}
