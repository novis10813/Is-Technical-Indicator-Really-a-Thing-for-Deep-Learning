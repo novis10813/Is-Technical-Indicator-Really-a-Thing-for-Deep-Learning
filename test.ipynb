{
 "cells": [
  {
   "cell_type": "code",
   "execution_count": 1,
   "metadata": {},
   "outputs": [],
   "source": [
    "import pandas as pd\n",
    "import numpy as np\n",
    "import tensorflow as tf\n",
    "from utils.data_preprocess import * # data_split, DataLabeling, train_val_test_split\n",
    "from models import *"
   ]
  },
  {
   "cell_type": "code",
   "execution_count": 2,
   "metadata": {},
   "outputs": [],
   "source": [
    "WINDOW_SIZE = 24"
   ]
  },
  {
   "cell_type": "code",
   "execution_count": 14,
   "metadata": {},
   "outputs": [],
   "source": [
    "df = pd.read_csv('data\\ETHBTC-5m-data.csv')\n",
    "raw_data = DataLabeling(df, WINDOW_SIZE)\n",
    "train_df, val_df, test_df = train_val_test_split(raw_data.TI_data, rolling=10)\n",
    "Data = DataPreprocess(train_df, val_df, test_df, WINDOW_SIZE, label_size=1, label_columns=['Trend'], shift=0)"
   ]
  },
  {
   "cell_type": "code",
   "execution_count": 28,
   "metadata": {},
   "outputs": [],
   "source": [
    "model = MLP_model(24, 43)"
   ]
  },
  {
   "cell_type": "code",
   "execution_count": 29,
   "metadata": {},
   "outputs": [],
   "source": [
    "test_model = model.model"
   ]
  },
  {
   "cell_type": "code",
   "execution_count": 30,
   "metadata": {},
   "outputs": [
    {
     "name": "stdout",
     "output_type": "stream",
     "text": [
      "Epoch 1/20000\n",
      "11864/11866 [============================>.] - ETA: 0s - loss: 0.7815 - accuracy: 0.5191INFO:tensorflow:Assets written to: with_TIs\\MLP_model\\assets\n",
      "11866/11866 [==============================] - 203s 17ms/step - loss: 0.7815 - accuracy: 0.5192 - val_loss: 0.8176 - val_accuracy: 0.0000e+00\n",
      "Epoch 2/20000\n",
      "11866/11866 [==============================] - ETA: 0s - loss: 0.7598 - accuracy: 0.5225INFO:tensorflow:Assets written to: with_TIs\\MLP_model\\assets\n",
      "11866/11866 [==============================] - 205s 17ms/step - loss: 0.7598 - accuracy: 0.5225 - val_loss: 0.7959 - val_accuracy: 0.0000e+00\n",
      "Epoch 3/20000\n",
      "11865/11866 [============================>.] - ETA: 0s - loss: 0.7581 - accuracy: 0.5210INFO:tensorflow:Assets written to: with_TIs\\MLP_model\\assets\n",
      "11866/11866 [==============================] - 201s 17ms/step - loss: 0.7581 - accuracy: 0.5210 - val_loss: 0.7844 - val_accuracy: 0.0000e+00\n",
      "Epoch 4/20000\n",
      "11866/11866 [==============================] - 201s 17ms/step - loss: 0.7586 - accuracy: 0.5208 - val_loss: 0.7845 - val_accuracy: 0.0000e+00\n",
      "Epoch 5/20000\n",
      "11866/11866 [==============================] - 202s 17ms/step - loss: 0.7579 - accuracy: 0.5211 - val_loss: 0.7953 - val_accuracy: 0.0000e+00\n",
      "Epoch 6/20000\n",
      "11866/11866 [==============================] - 200s 17ms/step - loss: 0.7589 - accuracy: 0.5202 - val_loss: 0.7854 - val_accuracy: 0.0000e+00\n",
      "Epoch 7/20000\n",
      "11866/11866 [==============================] - 200s 17ms/step - loss: 0.7580 - accuracy: 0.5197 - val_loss: 0.7876 - val_accuracy: 0.0000e+00\n",
      "Epoch 8/20000\n",
      "11864/11866 [============================>.] - ETA: 0s - loss: 0.7582 - accuracy: 0.5198INFO:tensorflow:Assets written to: with_TIs\\MLP_model\\assets\n",
      "11866/11866 [==============================] - 206s 17ms/step - loss: 0.7582 - accuracy: 0.5199 - val_loss: 0.7824 - val_accuracy: 0.0000e+00\n",
      "Epoch 9/20000\n",
      "11866/11866 [==============================] - 202s 17ms/step - loss: 0.7582 - accuracy: 0.5195 - val_loss: 0.7863 - val_accuracy: 0.0000e+00\n",
      "Epoch 10/20000\n",
      "11866/11866 [==============================] - 201s 17ms/step - loss: 0.7574 - accuracy: 0.5204 - val_loss: 0.7827 - val_accuracy: 0.0000e+00\n",
      "Epoch 11/20000\n",
      "11866/11866 [==============================] - 200s 17ms/step - loss: 0.7575 - accuracy: 0.5202 - val_loss: 0.7877 - val_accuracy: 0.0000e+00\n",
      "Epoch 12/20000\n",
      "11864/11866 [============================>.] - ETA: 0s - loss: 0.7569 - accuracy: 0.5200INFO:tensorflow:Assets written to: with_TIs\\MLP_model\\assets\n",
      "11866/11866 [==============================] - 204s 17ms/step - loss: 0.7569 - accuracy: 0.5200 - val_loss: 0.7823 - val_accuracy: 0.0000e+00\n",
      "Epoch 13/20000\n",
      "11866/11866 [==============================] - 200s 17ms/step - loss: 0.7573 - accuracy: 0.5207 - val_loss: 0.7874 - val_accuracy: 0.0000e+00\n",
      "Epoch 14/20000\n",
      "11866/11866 [==============================] - 198s 17ms/step - loss: 0.7577 - accuracy: 0.5193 - val_loss: 0.7853 - val_accuracy: 0.0000e+00\n",
      "Epoch 15/20000\n",
      "11865/11866 [============================>.] - ETA: 0s - loss: 0.7569 - accuracy: 0.5203INFO:tensorflow:Assets written to: with_TIs\\MLP_model\\assets\n",
      "11866/11866 [==============================] - 203s 17ms/step - loss: 0.7569 - accuracy: 0.5203 - val_loss: 0.7819 - val_accuracy: 0.0000e+00\n",
      "Epoch 16/20000\n",
      "11866/11866 [==============================] - 199s 17ms/step - loss: 0.7565 - accuracy: 0.5204 - val_loss: 0.7846 - val_accuracy: 0.0000e+00\n",
      "Epoch 17/20000\n",
      "11866/11866 [==============================] - 199s 17ms/step - loss: 0.7573 - accuracy: 0.5200 - val_loss: 0.7868 - val_accuracy: 0.0000e+00\n",
      "Epoch 18/20000\n",
      "11866/11866 [==============================] - 199s 17ms/step - loss: 0.7570 - accuracy: 0.5201 - val_loss: 0.7827 - val_accuracy: 0.0000e+00\n",
      "Epoch 19/20000\n",
      "11866/11866 [==============================] - 200s 17ms/step - loss: 0.7562 - accuracy: 0.5198 - val_loss: 0.7828 - val_accuracy: 0.0000e+00\n",
      "Epoch 20/20000\n",
      "11866/11866 [==============================] - 198s 17ms/step - loss: 0.7565 - accuracy: 0.5198 - val_loss: 0.7822 - val_accuracy: 0.0000e+00\n",
      "Epoch 21/20000\n",
      "11866/11866 [==============================] - 198s 17ms/step - loss: 0.7561 - accuracy: 0.5198 - val_loss: 0.7820 - val_accuracy: 0.0000e+00\n",
      "Epoch 22/20000\n",
      "11866/11866 [==============================] - 199s 17ms/step - loss: 0.7558 - accuracy: 0.5204 - val_loss: 0.7899 - val_accuracy: 0.0000e+00\n",
      "Epoch 23/20000\n",
      "11866/11866 [==============================] - 199s 17ms/step - loss: 0.7562 - accuracy: 0.5204 - val_loss: 0.7869 - val_accuracy: 0.0000e+00\n",
      "Epoch 24/20000\n",
      "11866/11866 [==============================] - 200s 17ms/step - loss: 0.7558 - accuracy: 0.5207 - val_loss: 0.7839 - val_accuracy: 0.0000e+00\n",
      "Epoch 25/20000\n",
      "11866/11866 [==============================] - 198s 17ms/step - loss: 0.7557 - accuracy: 0.5196 - val_loss: 0.7868 - val_accuracy: 0.0000e+00\n"
     ]
    },
    {
     "data": {
      "text/plain": [
       "<keras.callbacks.History at 0x17482f98108>"
      ]
     },
     "execution_count": 30,
     "metadata": {},
     "output_type": "execute_result"
    }
   ],
   "source": [
    "test_model.fit(Data.train,\n",
    "               epochs=20000,\n",
    "               validation_data=Data.val,\n",
    "               steps_per_epoch=len(Data.train),\n",
    "               validation_steps=int(0.15*len(Data.val)),\n",
    "               callbacks=[create_model_checkpoint(model_name=test_model.name, save_path='with_TIs'),\n",
    "                          tf.keras.callbacks.EarlyStopping(monitor='val_loss', patience=10)])"
   ]
  },
  {
   "cell_type": "code",
   "execution_count": 37,
   "metadata": {},
   "outputs": [
    {
     "name": "stdout",
     "output_type": "stream",
     "text": [
      "7/7 [==============================] - 0s 8ms/step - loss: 0.7314 - accuracy: 0.3562\n"
     ]
    },
    {
     "data": {
      "text/plain": [
       "[0.7313848733901978, 0.3561643958091736]"
      ]
     },
     "execution_count": 37,
     "metadata": {},
     "output_type": "execute_result"
    }
   ],
   "source": [
    "test_model = tf.keras.models.load_model('with_TIs\\MLP_model')\n",
    "test_model.evaluate(Data.test)"
   ]
  },
  {
   "cell_type": "code",
   "execution_count": 35,
   "metadata": {},
   "outputs": [
    {
     "data": {
      "text/plain": [
       "<tf.Tensor: shape=(169,), dtype=int64, numpy=\n",
       "array([0, 0, 0, 0, 0, 0, 0, 0, 0, 0, 0, 0, 0, 0, 0, 0, 0, 0, 0, 0, 0, 0,\n",
       "       0, 0, 0, 0, 0, 0, 0, 0, 0, 0, 0, 0, 0, 0, 0, 0, 0, 0, 0, 0, 0, 0,\n",
       "       0, 0, 0, 0, 0, 0, 0, 0, 0, 0, 0, 0, 0, 0, 0, 0, 0, 0, 0, 0, 0, 0,\n",
       "       0, 0, 0, 0, 0, 0, 0, 0, 0, 0, 0, 0, 0, 0, 0, 0, 0, 0, 0, 0, 0, 0,\n",
       "       0, 0, 0, 0, 0, 0, 0, 0, 0, 0, 0, 0, 0, 0, 0, 0, 0, 0, 0, 0, 0, 0,\n",
       "       0, 0, 0, 0, 0, 0, 0, 0, 0, 0, 0, 0, 0, 0, 0, 0, 0, 0, 0, 0, 0, 0,\n",
       "       0, 0, 0, 0, 0, 0, 0, 0, 0, 0, 0, 0, 0, 0, 0, 0, 0, 0, 0, 0, 0, 0,\n",
       "       0, 0, 0, 0, 0, 0, 0, 0, 0, 0, 0, 0, 0, 0, 0], dtype=int64)>"
      ]
     },
     "execution_count": 35,
     "metadata": {},
     "output_type": "execute_result"
    }
   ],
   "source": [
    "tf.argmax(test_model.predict(Data.val), axis=1)"
   ]
  },
  {
   "cell_type": "code",
   "execution_count": 34,
   "metadata": {},
   "outputs": [
    {
     "data": {
      "text/plain": [
       "2    69\n",
       "0    27\n",
       "Name: Trend, dtype: int64"
      ]
     },
     "execution_count": 34,
     "metadata": {},
     "output_type": "execute_result"
    }
   ],
   "source": [
    "test_df.Trend.value_counts()"
   ]
  },
  {
   "cell_type": "code",
   "execution_count": null,
   "metadata": {},
   "outputs": [],
   "source": []
  }
 ],
 "metadata": {
  "interpreter": {
   "hash": "ac3da779536756720bc930bbdcbe3b303a716c4190960bb8b007750e7b6b7c5d"
  },
  "kernelspec": {
   "display_name": "Python 3.7.6 64-bit",
   "language": "python",
   "name": "python3"
  },
  "language_info": {
   "codemirror_mode": {
    "name": "ipython",
    "version": 3
   },
   "file_extension": ".py",
   "mimetype": "text/x-python",
   "name": "python",
   "nbconvert_exporter": "python",
   "pygments_lexer": "ipython3",
   "version": "3.7.6"
  },
  "orig_nbformat": 4
 },
 "nbformat": 4,
 "nbformat_minor": 2
}
