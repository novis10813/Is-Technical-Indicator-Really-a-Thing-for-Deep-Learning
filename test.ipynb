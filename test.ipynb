{
 "cells": [
  {
   "cell_type": "code",
   "execution_count": 1,
   "metadata": {},
   "outputs": [],
   "source": [
    "import tensorflow as tf\n",
    "import pandas as pd\n",
    "import numpy as np\n",
    "from utils.data_preprocess import *\n",
    "from models import *"
   ]
  },
  {
   "cell_type": "code",
   "execution_count": 2,
   "metadata": {},
   "outputs": [],
   "source": [
    "data = pd.read_csv('./data/ETHBTC-5m-data.csv')\n",
    "data = data_split(data, 3)[0]"
   ]
  },
  {
   "cell_type": "code",
   "execution_count": 3,
   "metadata": {},
   "outputs": [],
   "source": [
    "WINDOW_SIZE = 24"
   ]
  },
  {
   "cell_type": "code",
   "execution_count": 4,
   "metadata": {},
   "outputs": [],
   "source": [
    "raw_data = DataLabeling(data, WINDOW_SIZE)\n",
    "train_df, val_df, test_df = train_val_test_split(raw_data.labelled_data, train_size=0.6, val_size=0.2, test_size=0.2)\n",
    "Data = DataPreprocess(train_df, val_df, test_df, window_size=WINDOW_SIZE, label_size=1, label_columns=['Label'], shift=0, batch_size=8)"
   ]
  },
  {
   "cell_type": "code",
   "execution_count": 5,
   "metadata": {},
   "outputs": [],
   "source": [
    "train_data = Data.train.prefetch(tf.data.AUTOTUNE)\n",
    "val_data = Data.val.prefetch(tf.data.AUTOTUNE)"
   ]
  },
  {
   "cell_type": "code",
   "execution_count": 6,
   "metadata": {},
   "outputs": [],
   "source": [
    "strong_model = CDT_1D_model(WINDOW_SIZE, 5).model"
   ]
  },
  {
   "cell_type": "code",
   "execution_count": 7,
   "metadata": {},
   "outputs": [
    {
     "name": "stdout",
     "output_type": "stream",
     "text": [
      "Epoch 1/1000\n",
      "11337/11337 [==============================] - 106s 9ms/step - loss: 0.4398 - accuracy: 0.8863 - val_loss: 0.3998 - val_accuracy: 0.8982 - lr: 0.0010\n",
      "Epoch 2/1000\n",
      "11337/11337 [==============================] - 98s 9ms/step - loss: 0.4336 - accuracy: 0.8863 - val_loss: 0.3997 - val_accuracy: 0.8982 - lr: 0.0010\n",
      "Epoch 3/1000\n",
      " 2913/11337 [======>.......................] - ETA: 1:14 - loss: 0.5114 - accuracy: 0.8551"
     ]
    }
   ],
   "source": [
    "strong_model.fit(train_data,\n",
    "                 epochs=1000,\n",
    "                 validation_data=val_data,\n",
    "                 steps_per_epoch=len(train_data),\n",
    "                 validation_steps=int(0.15 * len(val_data)),\n",
    "                 callbacks=[tf.keras.callbacks.EarlyStopping(monitor='val_loss', patience=10),\n",
    "                            tf.keras.callbacks.ReduceLROnPlateau(monitor='val_loss', patience=3, factor=0.2)])"
   ]
  },
  {
   "cell_type": "code",
   "execution_count": 16,
   "metadata": {},
   "outputs": [
    {
     "name": "stdout",
     "output_type": "stream",
     "text": [
      "473/473 [==============================] - 3s 6ms/step - loss: 0.4326 - accuracy: 0.8865\n"
     ]
    },
    {
     "data": {
      "text/plain": [
       "[0.43261733651161194, 0.8864508867263794]"
      ]
     },
     "execution_count": 16,
     "metadata": {},
     "output_type": "execute_result"
    }
   ],
   "source": [
    "strong_model.evaluate(Data.test)"
   ]
  },
  {
   "cell_type": "code",
   "execution_count": 18,
   "metadata": {},
   "outputs": [
    {
     "name": "stdout",
     "output_type": "stream",
     "text": [
      "Epoch 1/1000\n",
      "1412/1418 [============================>.] - ETA: 0s - loss: 0.5295 - accuracy: 0.8858INFO:tensorflow:Assets written to: data_without_TIs\\MLP_model\\assets\n",
      "1418/1418 [==============================] - 16s 10ms/step - loss: 0.5291 - accuracy: 0.8858 - val_loss: 0.4028 - val_accuracy: 0.8980 - lr: 0.0010\n",
      "Epoch 2/1000\n",
      "1414/1418 [============================>.] - ETA: 0s - loss: 0.4456 - accuracy: 0.8864INFO:tensorflow:Assets written to: data_without_TIs\\MLP_model\\assets\n",
      "1418/1418 [==============================] - 16s 11ms/step - loss: 0.4456 - accuracy: 0.8863 - val_loss: 0.4019 - val_accuracy: 0.8980 - lr: 0.0010\n",
      "Epoch 3/1000\n",
      "1414/1418 [============================>.] - ETA: 0s - loss: 0.4358 - accuracy: 0.8864INFO:tensorflow:Assets written to: data_without_TIs\\MLP_model\\assets\n",
      "1418/1418 [==============================] - 15s 10ms/step - loss: 0.4359 - accuracy: 0.8863 - val_loss: 0.4014 - val_accuracy: 0.8980 - lr: 0.0010\n",
      "Epoch 4/1000\n",
      "1418/1418 [==============================] - ETA: 0s - loss: 0.4331 - accuracy: 0.8863INFO:tensorflow:Assets written to: data_without_TIs\\MLP_model\\assets\n",
      "1418/1418 [==============================] - 15s 11ms/step - loss: 0.4331 - accuracy: 0.8863 - val_loss: 0.4009 - val_accuracy: 0.8980 - lr: 0.0010\n",
      "Epoch 5/1000\n",
      "1414/1418 [============================>.] - ETA: 0s - loss: 0.4320 - accuracy: 0.8864INFO:tensorflow:Assets written to: data_without_TIs\\MLP_model\\assets\n",
      "1418/1418 [==============================] - 14s 10ms/step - loss: 0.4321 - accuracy: 0.8863 - val_loss: 0.4006 - val_accuracy: 0.8980 - lr: 0.0010\n",
      "Epoch 6/1000\n",
      "1418/1418 [==============================] - ETA: 0s - loss: 0.4319 - accuracy: 0.8863INFO:tensorflow:Assets written to: data_without_TIs\\MLP_model\\assets\n",
      "1418/1418 [==============================] - 16s 11ms/step - loss: 0.4319 - accuracy: 0.8863 - val_loss: 0.4004 - val_accuracy: 0.8980 - lr: 0.0010\n",
      "Epoch 7/1000\n",
      "1414/1418 [============================>.] - ETA: 0s - loss: 0.4317 - accuracy: 0.8864INFO:tensorflow:Assets written to: data_without_TIs\\MLP_model\\assets\n",
      "1418/1418 [==============================] - 15s 11ms/step - loss: 0.4318 - accuracy: 0.8863 - val_loss: 0.4003 - val_accuracy: 0.8980 - lr: 0.0010\n",
      "Epoch 8/1000\n",
      "1415/1418 [============================>.] - ETA: 0s - loss: 0.4315 - accuracy: 0.8864INFO:tensorflow:Assets written to: data_without_TIs\\MLP_model\\assets\n",
      "1418/1418 [==============================] - 15s 10ms/step - loss: 0.4316 - accuracy: 0.8863 - val_loss: 0.4003 - val_accuracy: 0.8980 - lr: 0.0010\n",
      "Epoch 9/1000\n",
      "1418/1418 [==============================] - ETA: 0s - loss: 0.4318 - accuracy: 0.8863INFO:tensorflow:Assets written to: data_without_TIs\\MLP_model\\assets\n",
      "1418/1418 [==============================] - 15s 11ms/step - loss: 0.4318 - accuracy: 0.8863 - val_loss: 0.4002 - val_accuracy: 0.8980 - lr: 0.0010\n",
      "Epoch 10/1000\n",
      "1418/1418 [==============================] - 13s 9ms/step - loss: 0.4318 - accuracy: 0.8863 - val_loss: 0.4002 - val_accuracy: 0.8980 - lr: 0.0010\n",
      "Epoch 11/1000\n",
      "1418/1418 [==============================] - 13s 9ms/step - loss: 0.4333 - accuracy: 0.8863 - val_loss: 0.4003 - val_accuracy: 0.8980 - lr: 2.0000e-04\n",
      "Epoch 12/1000\n",
      "1418/1418 [==============================] - 13s 9ms/step - loss: 0.4330 - accuracy: 0.8863 - val_loss: 0.4004 - val_accuracy: 0.8980 - lr: 2.0000e-04\n",
      "Epoch 13/1000\n",
      "1418/1418 [==============================] - 13s 9ms/step - loss: 0.4330 - accuracy: 0.8863 - val_loss: 0.4004 - val_accuracy: 0.8980 - lr: 2.0000e-04\n",
      "Epoch 14/1000\n",
      "1418/1418 [==============================] - 13s 9ms/step - loss: 0.4331 - accuracy: 0.8863 - val_loss: 0.4005 - val_accuracy: 0.8980 - lr: 4.0000e-05\n",
      "Epoch 15/1000\n",
      "1418/1418 [==============================] - 12s 9ms/step - loss: 0.4330 - accuracy: 0.8863 - val_loss: 0.4005 - val_accuracy: 0.8980 - lr: 4.0000e-05\n",
      "Epoch 16/1000\n",
      "1418/1418 [==============================] - 13s 9ms/step - loss: 0.4330 - accuracy: 0.8863 - val_loss: 0.4006 - val_accuracy: 0.8980 - lr: 4.0000e-05\n",
      "Epoch 17/1000\n",
      "1418/1418 [==============================] - 12s 9ms/step - loss: 0.4330 - accuracy: 0.8863 - val_loss: 0.4006 - val_accuracy: 0.8980 - lr: 8.0000e-06\n",
      "Epoch 18/1000\n",
      "1418/1418 [==============================] - 13s 9ms/step - loss: 0.4330 - accuracy: 0.8863 - val_loss: 0.4006 - val_accuracy: 0.8980 - lr: 8.0000e-06\n",
      "Epoch 19/1000\n",
      "1418/1418 [==============================] - 13s 9ms/step - loss: 0.4330 - accuracy: 0.8863 - val_loss: 0.4006 - val_accuracy: 0.8980 - lr: 8.0000e-06\n"
     ]
    },
    {
     "data": {
      "text/plain": [
       "<keras.callbacks.History at 0x18f894e6a08>"
      ]
     },
     "execution_count": 18,
     "metadata": {},
     "output_type": "execute_result"
    }
   ],
   "source": [
    "weak_model = MLP_model(WINDOW_SIZE, 5).model\n",
    "weak_model.fit(train_data,\n",
    "                 epochs=1000,\n",
    "                 validation_data=val_data,\n",
    "                 steps_per_epoch=len(train_data),\n",
    "                 validation_steps=int(0.15 * len(val_data)),\n",
    "                 callbacks=[tf.keras.callbacks.EarlyStopping(monitor='val_loss', patience=10),\n",
    "                            tf.keras.callbacks.ReduceLROnPlateau(monitor='val_loss', patience=3, factor=0.2),\n",
    "                            create_model_checkpoint(model_name=weak_model.name, save_path='data_without_TIs')])"
   ]
  },
  {
   "cell_type": "code",
   "execution_count": 19,
   "metadata": {},
   "outputs": [
    {
     "name": "stdout",
     "output_type": "stream",
     "text": [
      "473/473 [==============================] - 3s 7ms/step - loss: 0.4326 - accuracy: 0.8865\n"
     ]
    },
    {
     "data": {
      "text/plain": [
       "[0.432639479637146, 0.8864508867263794]"
      ]
     },
     "execution_count": 19,
     "metadata": {},
     "output_type": "execute_result"
    }
   ],
   "source": [
    "weak_model.evaluate(Data.test)"
   ]
  },
  {
   "cell_type": "code",
   "execution_count": 1,
   "metadata": {},
   "outputs": [],
   "source": [
    "from tensorflow.keras import Sequential, layers, Model, Input\n",
    "def model():\n",
    "    input = Input(shape=[24, 5])\n",
    "    x = layers.LSTM(300, return_sequences=True)(input)\n",
    "    x = layers.LSTM(200, return_sequences=True)(x)\n",
    "    x = layers.LSTM(100, return_sequences=True)(x)\n",
    "    x = layers.LSTM(50, return_sequences=True)(x)\n",
    "    x = layers.LSTM(20)(x)\n",
    "    x = layers.Dense(500, activation='relu')(x)\n",
    "    x = layers.Dropout(0.7)(x)\n",
    "    output = layers.Dense(3, activation='softmax')(x)\n",
    "    model = Model(input, output)\n",
    "    \n",
    "    model.compile(optimizer='adam', loss='sparse_categorical_crossentropy', metrics=['accuracy'])\n",
    "    return model"
   ]
  },
  {
   "cell_type": "code",
   "execution_count": 7,
   "metadata": {},
   "outputs": [
    {
     "name": "stdout",
     "output_type": "stream",
     "text": [
      "Epoch 1/5\n",
      "1418/1418 [==============================] - 48s 21ms/step - loss: 0.4419 - accuracy: 0.8861\n",
      "Epoch 2/5\n",
      "1418/1418 [==============================] - 32s 23ms/step - loss: 0.4377 - accuracy: 0.8863\n",
      "Epoch 3/5\n",
      "1418/1418 [==============================] - 30s 21ms/step - loss: 0.4360 - accuracy: 0.8863\n",
      "Epoch 4/5\n",
      "1418/1418 [==============================] - 31s 22ms/step - loss: 0.4353 - accuracy: 0.8863\n",
      "Epoch 5/5\n",
      "1418/1418 [==============================] - 34s 24ms/step - loss: 0.4347 - accuracy: 0.8863\n"
     ]
    },
    {
     "data": {
      "text/plain": [
       "<keras.callbacks.History at 0x1d0372116c8>"
      ]
     },
     "execution_count": 7,
     "metadata": {},
     "output_type": "execute_result"
    }
   ],
   "source": [
    "test = model()\n",
    "test.fit(train_data, epochs=5)"
   ]
  },
  {
   "cell_type": "code",
   "execution_count": null,
   "metadata": {},
   "outputs": [],
   "source": []
  }
 ],
 "metadata": {
  "interpreter": {
   "hash": "ac3da779536756720bc930bbdcbe3b303a716c4190960bb8b007750e7b6b7c5d"
  },
  "kernelspec": {
   "display_name": "Python 3.7.6 64-bit",
   "language": "python",
   "name": "python3"
  },
  "language_info": {
   "codemirror_mode": {
    "name": "ipython",
    "version": 3
   },
   "file_extension": ".py",
   "mimetype": "text/x-python",
   "name": "python",
   "nbconvert_exporter": "python",
   "pygments_lexer": "ipython3",
   "version": "3.7.6"
  },
  "orig_nbformat": 4
 },
 "nbformat": 4,
 "nbformat_minor": 2
}
