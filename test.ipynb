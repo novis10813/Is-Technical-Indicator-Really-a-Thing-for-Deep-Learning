{
 "cells": [
  {
   "cell_type": "code",
   "execution_count": 1,
   "metadata": {},
   "outputs": [],
   "source": [
    "import pandas as pd\n",
    "import numpy as np\n",
    "import tensorflow as tf\n",
    "from utils.data_preprocess import * # data_split, DataLabeling, train_val_test_split\n",
    "from models import *\n",
    "from utils.Backtest import Backtest"
   ]
  },
  {
   "cell_type": "code",
   "execution_count": 2,
   "metadata": {},
   "outputs": [],
   "source": [
    "WINDOW_SIZE = 24"
   ]
  },
  {
   "cell_type": "code",
   "execution_count": 15,
   "metadata": {},
   "outputs": [
    {
     "name": "stdout",
     "output_type": "stream",
     "text": [
      "Epoch 1/20000\n",
      "11863/11867 [============================>.] - ETA: 0s - loss: 0.7440 - accuracy: 0.5756INFO:tensorflow:Assets written to: BNBBTC_without_TIs\\CDT-1D_model\\assets\n",
      "11867/11867 [==============================] - 144s 12ms/step - loss: 0.7440 - accuracy: 0.5756 - val_loss: 317.7543 - val_accuracy: 0.1250\n",
      "Epoch 2/20000\n",
      "11866/11867 [============================>.] - ETA: 0s - loss: 0.7331 - accuracy: 0.5899INFO:tensorflow:Assets written to: BNBBTC_without_TIs\\CDT-1D_model\\assets\n",
      "11867/11867 [==============================] - 142s 12ms/step - loss: 0.7331 - accuracy: 0.5899 - val_loss: 246.6564 - val_accuracy: 0.1250\n",
      "Epoch 3/20000\n",
      "11867/11867 [==============================] - ETA: 0s - loss: 0.7201 - accuracy: 0.5977INFO:tensorflow:Assets written to: BNBBTC_without_TIs\\CDT-1D_model\\assets\n",
      "11867/11867 [==============================] - 133s 11ms/step - loss: 0.7201 - accuracy: 0.5977 - val_loss: 95.2251 - val_accuracy: 0.1250\n",
      "Epoch 4/20000\n",
      "11867/11867 [==============================] - 132s 11ms/step - loss: 0.7088 - accuracy: 0.6025 - val_loss: 202.7976 - val_accuracy: 0.0000e+00\n",
      "Epoch 5/20000\n",
      "11866/11867 [============================>.] - ETA: 0s - loss: 0.7045 - accuracy: 0.6036INFO:tensorflow:Assets written to: BNBBTC_without_TIs\\CDT-1D_model\\assets\n",
      "11867/11867 [==============================] - 146s 12ms/step - loss: 0.7045 - accuracy: 0.6036 - val_loss: 10.4446 - val_accuracy: 0.8750\n",
      "Epoch 6/20000\n",
      "11867/11867 [==============================] - 152s 13ms/step - loss: 0.7027 - accuracy: 0.6044 - val_loss: 20.3838 - val_accuracy: 0.0000e+00\n",
      "Epoch 7/20000\n",
      "11867/11867 [==============================] - 152s 13ms/step - loss: 0.7011 - accuracy: 0.6067 - val_loss: 34.9594 - val_accuracy: 0.1250\n",
      "Epoch 8/20000\n",
      "11867/11867 [==============================] - 145s 12ms/step - loss: 0.6997 - accuracy: 0.6054 - val_loss: 46.7057 - val_accuracy: 0.0000e+00\n",
      "Epoch 9/20000\n",
      "11867/11867 [==============================] - 141s 12ms/step - loss: 0.6993 - accuracy: 0.6060 - val_loss: 27.6596 - val_accuracy: 0.1250\n",
      "Epoch 10/20000\n",
      "11867/11867 [==============================] - 136s 11ms/step - loss: 0.7009 - accuracy: 0.6028 - val_loss: 28.7693 - val_accuracy: 0.1250\n",
      "Epoch 11/20000\n",
      "11867/11867 [==============================] - ETA: 0s - loss: 0.6988 - accuracy: 0.6052"
     ]
    }
   ],
   "source": [
    "for price in os.listdir('./data'):\n",
    "    df = pd.read_csv(f'./data/{price}')\n",
    "    raw_data = DataLabeling(df, WINDOW_SIZE)\n",
    "    train_df, val_df, test_df = train_val_test_split(raw_data.labelled_data, rolling=100000)\n",
    "    Data = DataPreprocess(train_df, val_df, test_df, WINDOW_SIZE, label_size=1, label_columns=['Trend'], shift=0)\n",
    "    model = CDT_1D_model(WINDOW_SIZE, len(train_df.columns)-1)\n",
    "    test_model = model.model\n",
    "    test_model.fit(Data.train,\n",
    "               epochs=20000,\n",
    "               validation_data=Data.val,\n",
    "               steps_per_epoch=len(Data.train),\n",
    "               validation_steps=int(0.15*len(Data.val)),\n",
    "               callbacks=[create_model_checkpoint(model_name=test_model.name, save_path=f'{price[:6]}_without_TIs'),\n",
    "                          tf.keras.callbacks.EarlyStopping(monitor='val_loss', patience=10)])"
   ]
  },
  {
   "cell_type": "code",
   "execution_count": null,
   "metadata": {},
   "outputs": [
    {
     "name": "stdout",
     "output_type": "stream",
     "text": [
      "balance: 7.5 | crypto: 979553.9545734212\n",
      "7.5\n"
     ]
    },
    {
     "name": "stderr",
     "output_type": "stream",
     "text": [
      "g:\\Code\\Python\\GitHub\\Is-Technical-Indicator-Really-a-Thing-for-Deep-Learning\\utils\\Backtest.py:40: SettingWithCopyWarning: \n",
      "A value is trying to be set on a copy of a slice from a DataFrame.\n",
      "Try using .loc[row_indexer,col_indexer] = value instead\n",
      "\n",
      "See the caveats in the documentation: https://pandas.pydata.org/pandas-docs/stable/user_guide/indexing.html#returning-a-view-versus-a-copy\n",
      "  data['Processed_Trend'] = data.Trend.replace(to_replace=1, method='bfill')\n",
      "g:\\Code\\Python\\GitHub\\Is-Technical-Indicator-Really-a-Thing-for-Deep-Learning\\utils\\Backtest.py:41: SettingWithCopyWarning: \n",
      "A value is trying to be set on a copy of a slice from a DataFrame.\n",
      "Try using .loc[row_indexer,col_indexer] = value instead\n",
      "\n",
      "See the caveats in the documentation: https://pandas.pydata.org/pandas-docs/stable/user_guide/indexing.html#returning-a-view-versus-a-copy\n",
      "  data['Previous_Trend'] = data.Processed_Trend.shift()\n"
     ]
    }
   ],
   "source": [
    "# asset = Backtest(train_df, initial_balance=10000).test()\n",
    "# print(asset)"
   ]
  },
  {
   "cell_type": "code",
   "execution_count": null,
   "metadata": {},
   "outputs": [
    {
     "name": "stdout",
     "output_type": "stream",
     "text": [
      "7/7 [==============================] - 0s 8ms/step - loss: 3.6387e-04 - accuracy: 1.0000\n"
     ]
    },
    {
     "data": {
      "text/plain": [
       "[0.00036386758438311517, 1.0]"
      ]
     },
     "execution_count": 13,
     "metadata": {},
     "output_type": "execute_result"
    }
   ],
   "source": [
    "test_model = tf.keras.models.load_model('ETHUSDT_without_TIs\\CDT-1D_model')\n",
    "test_model.evaluate(Data.test)"
   ]
  },
  {
   "cell_type": "code",
   "execution_count": 14,
   "metadata": {},
   "outputs": [
    {
     "data": {
      "text/plain": [
       "<tf.Tensor: shape=(73,), dtype=int64, numpy=\n",
       "array([1, 1, 1, 1, 1, 1, 1, 1, 1, 1, 1, 1, 1, 1, 1, 1, 1, 1, 1, 1, 1, 1,\n",
       "       1, 1, 1, 1, 1, 1, 1, 1, 1, 1, 1, 1, 1, 1, 1, 1, 1, 1, 1, 1, 1, 1,\n",
       "       1, 1, 1, 1, 1, 1, 1, 1, 1, 1, 1, 1, 1, 1, 1, 1, 1, 1, 1, 1, 1, 1,\n",
       "       1, 1, 1, 1, 1, 1, 1], dtype=int64)>"
      ]
     },
     "execution_count": 14,
     "metadata": {},
     "output_type": "execute_result"
    }
   ],
   "source": [
    "tf.argmax(test_model.predict(Data.test), axis=1)"
   ]
  },
  {
   "cell_type": "code",
   "execution_count": 33,
   "metadata": {},
   "outputs": [
    {
     "data": {
      "text/plain": [
       "1    142395\n",
       "0        16\n",
       "2         5\n",
       "Name: Trend, dtype: int64"
      ]
     },
     "execution_count": 33,
     "metadata": {},
     "output_type": "execute_result"
    }
   ],
   "source": [
    "train_df.Trend.value_counts()"
   ]
  },
  {
   "cell_type": "code",
   "execution_count": null,
   "metadata": {},
   "outputs": [],
   "source": []
  }
 ],
 "metadata": {
  "interpreter": {
   "hash": "ac3da779536756720bc930bbdcbe3b303a716c4190960bb8b007750e7b6b7c5d"
  },
  "kernelspec": {
   "display_name": "Python 3.7.6 64-bit",
   "language": "python",
   "name": "python3"
  },
  "language_info": {
   "codemirror_mode": {
    "name": "ipython",
    "version": 3
   },
   "file_extension": ".py",
   "mimetype": "text/x-python",
   "name": "python",
   "nbconvert_exporter": "python",
   "pygments_lexer": "ipython3",
   "version": "3.7.6"
  },
  "orig_nbformat": 4
 },
 "nbformat": 4,
 "nbformat_minor": 2
}
