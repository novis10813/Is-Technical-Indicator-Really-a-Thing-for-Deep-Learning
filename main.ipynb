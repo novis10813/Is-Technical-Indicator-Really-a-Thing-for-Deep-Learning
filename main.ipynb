{
 "cells": [
  {
   "cell_type": "code",
   "execution_count": 24,
   "metadata": {},
   "outputs": [],
   "source": [
    "from data_preprocess import DataPreprocess\n",
    "import pandas as pd\n",
    "import numpy as np"
   ]
  },
  {
   "cell_type": "code",
   "execution_count": 17,
   "metadata": {},
   "outputs": [],
   "source": [
    "df = DataPreprocess('ETHBTC-5m-data.csv').get_ohlcv()"
   ]
  },
  {
   "cell_type": "code",
   "execution_count": 22,
   "metadata": {},
   "outputs": [],
   "source": [
    "window_size = 12\n",
    "horizon = 1"
   ]
  },
  {
   "cell_type": "code",
   "execution_count": 23,
   "metadata": {},
   "outputs": [
    {
     "data": {
      "text/html": [
       "<div>\n",
       "<style scoped>\n",
       "    .dataframe tbody tr th:only-of-type {\n",
       "        vertical-align: middle;\n",
       "    }\n",
       "\n",
       "    .dataframe tbody tr th {\n",
       "        vertical-align: top;\n",
       "    }\n",
       "\n",
       "    .dataframe thead th {\n",
       "        text-align: right;\n",
       "    }\n",
       "</style>\n",
       "<table border=\"1\" class=\"dataframe\">\n",
       "  <thead>\n",
       "    <tr style=\"text-align: right;\">\n",
       "      <th></th>\n",
       "      <th>Open</th>\n",
       "      <th>High</th>\n",
       "      <th>Low</th>\n",
       "      <th>Close</th>\n",
       "      <th>Volume</th>\n",
       "      <th>Close+1</th>\n",
       "      <th>Close+2</th>\n",
       "      <th>Close+3</th>\n",
       "      <th>Close+4</th>\n",
       "      <th>Close+5</th>\n",
       "      <th>Close+6</th>\n",
       "      <th>Close+7</th>\n",
       "      <th>Close+8</th>\n",
       "      <th>Close+9</th>\n",
       "      <th>Close+10</th>\n",
       "      <th>Close+11</th>\n",
       "      <th>Close+12</th>\n",
       "    </tr>\n",
       "    <tr>\n",
       "      <th>Timestamp</th>\n",
       "      <th></th>\n",
       "      <th></th>\n",
       "      <th></th>\n",
       "      <th></th>\n",
       "      <th></th>\n",
       "      <th></th>\n",
       "      <th></th>\n",
       "      <th></th>\n",
       "      <th></th>\n",
       "      <th></th>\n",
       "      <th></th>\n",
       "      <th></th>\n",
       "      <th></th>\n",
       "      <th></th>\n",
       "      <th></th>\n",
       "      <th></th>\n",
       "      <th></th>\n",
       "    </tr>\n",
       "  </thead>\n",
       "  <tbody>\n",
       "    <tr>\n",
       "      <th>2017-07-14 04:00:00</th>\n",
       "      <td>0.080000</td>\n",
       "      <td>0.080000</td>\n",
       "      <td>0.080000</td>\n",
       "      <td>0.080000</td>\n",
       "      <td>0.726</td>\n",
       "      <td>NaN</td>\n",
       "      <td>NaN</td>\n",
       "      <td>NaN</td>\n",
       "      <td>NaN</td>\n",
       "      <td>NaN</td>\n",
       "      <td>NaN</td>\n",
       "      <td>NaN</td>\n",
       "      <td>NaN</td>\n",
       "      <td>NaN</td>\n",
       "      <td>NaN</td>\n",
       "      <td>NaN</td>\n",
       "      <td>NaN</td>\n",
       "    </tr>\n",
       "    <tr>\n",
       "      <th>2017-07-14 04:05:00</th>\n",
       "      <td>0.080000</td>\n",
       "      <td>0.080001</td>\n",
       "      <td>0.080000</td>\n",
       "      <td>0.080001</td>\n",
       "      <td>3.347</td>\n",
       "      <td>0.080000</td>\n",
       "      <td>NaN</td>\n",
       "      <td>NaN</td>\n",
       "      <td>NaN</td>\n",
       "      <td>NaN</td>\n",
       "      <td>NaN</td>\n",
       "      <td>NaN</td>\n",
       "      <td>NaN</td>\n",
       "      <td>NaN</td>\n",
       "      <td>NaN</td>\n",
       "      <td>NaN</td>\n",
       "      <td>NaN</td>\n",
       "    </tr>\n",
       "    <tr>\n",
       "      <th>2017-07-14 04:10:00</th>\n",
       "      <td>0.080001</td>\n",
       "      <td>0.086400</td>\n",
       "      <td>0.080001</td>\n",
       "      <td>0.086400</td>\n",
       "      <td>4.679</td>\n",
       "      <td>0.080001</td>\n",
       "      <td>0.080000</td>\n",
       "      <td>NaN</td>\n",
       "      <td>NaN</td>\n",
       "      <td>NaN</td>\n",
       "      <td>NaN</td>\n",
       "      <td>NaN</td>\n",
       "      <td>NaN</td>\n",
       "      <td>NaN</td>\n",
       "      <td>NaN</td>\n",
       "      <td>NaN</td>\n",
       "      <td>NaN</td>\n",
       "    </tr>\n",
       "    <tr>\n",
       "      <th>2017-07-14 04:15:00</th>\n",
       "      <td>0.085289</td>\n",
       "      <td>0.085620</td>\n",
       "      <td>0.085128</td>\n",
       "      <td>0.085128</td>\n",
       "      <td>53.431</td>\n",
       "      <td>0.086400</td>\n",
       "      <td>0.080001</td>\n",
       "      <td>0.080000</td>\n",
       "      <td>NaN</td>\n",
       "      <td>NaN</td>\n",
       "      <td>NaN</td>\n",
       "      <td>NaN</td>\n",
       "      <td>NaN</td>\n",
       "      <td>NaN</td>\n",
       "      <td>NaN</td>\n",
       "      <td>NaN</td>\n",
       "      <td>NaN</td>\n",
       "    </tr>\n",
       "    <tr>\n",
       "      <th>2017-07-14 04:20:00</th>\n",
       "      <td>0.085274</td>\n",
       "      <td>0.086000</td>\n",
       "      <td>0.085274</td>\n",
       "      <td>0.086000</td>\n",
       "      <td>5.576</td>\n",
       "      <td>0.085128</td>\n",
       "      <td>0.086400</td>\n",
       "      <td>0.080001</td>\n",
       "      <td>0.08</td>\n",
       "      <td>NaN</td>\n",
       "      <td>NaN</td>\n",
       "      <td>NaN</td>\n",
       "      <td>NaN</td>\n",
       "      <td>NaN</td>\n",
       "      <td>NaN</td>\n",
       "      <td>NaN</td>\n",
       "      <td>NaN</td>\n",
       "    </tr>\n",
       "  </tbody>\n",
       "</table>\n",
       "</div>"
      ],
      "text/plain": [
       "                         Open      High       Low     Close  Volume   Close+1  \\\n",
       "Timestamp                                                                       \n",
       "2017-07-14 04:00:00  0.080000  0.080000  0.080000  0.080000   0.726       NaN   \n",
       "2017-07-14 04:05:00  0.080000  0.080001  0.080000  0.080001   3.347  0.080000   \n",
       "2017-07-14 04:10:00  0.080001  0.086400  0.080001  0.086400   4.679  0.080001   \n",
       "2017-07-14 04:15:00  0.085289  0.085620  0.085128  0.085128  53.431  0.086400   \n",
       "2017-07-14 04:20:00  0.085274  0.086000  0.085274  0.086000   5.576  0.085128   \n",
       "\n",
       "                      Close+2   Close+3  Close+4  Close+5  Close+6  Close+7  \\\n",
       "Timestamp                                                                     \n",
       "2017-07-14 04:00:00       NaN       NaN      NaN      NaN      NaN      NaN   \n",
       "2017-07-14 04:05:00       NaN       NaN      NaN      NaN      NaN      NaN   \n",
       "2017-07-14 04:10:00  0.080000       NaN      NaN      NaN      NaN      NaN   \n",
       "2017-07-14 04:15:00  0.080001  0.080000      NaN      NaN      NaN      NaN   \n",
       "2017-07-14 04:20:00  0.086400  0.080001     0.08      NaN      NaN      NaN   \n",
       "\n",
       "                     Close+8  Close+9  Close+10  Close+11  Close+12  \n",
       "Timestamp                                                            \n",
       "2017-07-14 04:00:00      NaN      NaN       NaN       NaN       NaN  \n",
       "2017-07-14 04:05:00      NaN      NaN       NaN       NaN       NaN  \n",
       "2017-07-14 04:10:00      NaN      NaN       NaN       NaN       NaN  \n",
       "2017-07-14 04:15:00      NaN      NaN       NaN       NaN       NaN  \n",
       "2017-07-14 04:20:00      NaN      NaN       NaN       NaN       NaN  "
      ]
     },
     "execution_count": 23,
     "metadata": {},
     "output_type": "execute_result"
    }
   ],
   "source": [
    "# Add window columns\n",
    "ETHBTC_windowed = df.copy()\n",
    "for i in range(window_size):\n",
    "    ETHBTC_windowed[f'Close+{i+1}'] = ETHBTC_windowed['Close'].shift(periods=i+1)\n",
    "\n",
    "ETHBTC_windowed.head()"
   ]
  },
  {
   "cell_type": "code",
   "execution_count": 25,
   "metadata": {},
   "outputs": [
    {
     "data": {
      "text/plain": [
       "(                         Open      High       Low  Volume   Close+1   Close+2  \\\n",
       " Timestamp                                                                       \n",
       " 2017-07-14 05:00:00  0.085874  0.086205  0.085874   1.304  0.086347  0.086380   \n",
       " 2017-07-14 05:05:00  0.085816  0.085816  0.084824   9.770  0.085978  0.086347   \n",
       " 2017-07-14 05:10:00  0.084803  0.084803  0.084608   5.446  0.084824  0.085978   \n",
       " 2017-07-14 05:15:00  0.084581  0.086196  0.084581   8.833  0.084680  0.084824   \n",
       " 2017-07-14 05:20:00  0.085590  0.085810  0.085496   4.461  0.086196  0.084680   \n",
       " \n",
       "                       Close+3   Close+4   Close+5   Close+6   Close+7  \\\n",
       " Timestamp                                                               \n",
       " 2017-07-14 05:00:00  0.086350  0.086314  0.086180  0.086000  0.085811   \n",
       " 2017-07-14 05:05:00  0.086380  0.086350  0.086314  0.086180  0.086000   \n",
       " 2017-07-14 05:10:00  0.086347  0.086380  0.086350  0.086314  0.086180   \n",
       " 2017-07-14 05:15:00  0.085978  0.086347  0.086380  0.086350  0.086314   \n",
       " 2017-07-14 05:20:00  0.084824  0.085978  0.086347  0.086380  0.086350   \n",
       " \n",
       "                       Close+8   Close+9  Close+10  Close+11  Close+12  \n",
       " Timestamp                                                              \n",
       " 2017-07-14 05:00:00  0.086000  0.085128  0.086400  0.080001  0.080000  \n",
       " 2017-07-14 05:05:00  0.085811  0.086000  0.085128  0.086400  0.080001  \n",
       " 2017-07-14 05:10:00  0.086000  0.085811  0.086000  0.085128  0.086400  \n",
       " 2017-07-14 05:15:00  0.086180  0.086000  0.085811  0.086000  0.085128  \n",
       " 2017-07-14 05:20:00  0.086314  0.086180  0.086000  0.085811  0.086000  ,\n",
       " Timestamp\n",
       " 2017-07-14 05:00:00    0.085978\n",
       " 2017-07-14 05:05:00    0.084824\n",
       " 2017-07-14 05:10:00    0.084680\n",
       " 2017-07-14 05:15:00    0.086196\n",
       " 2017-07-14 05:20:00    0.085496\n",
       " Name: Close, dtype: float32)"
      ]
     },
     "execution_count": 25,
     "metadata": {},
     "output_type": "execute_result"
    }
   ],
   "source": [
    "# Create feature data and target data\n",
    "X = ETHBTC_windowed.dropna().drop('Close', axis=1).astype(np.float32)\n",
    "y = ETHBTC_windowed.dropna()['Close'].astype(np.float32)\n",
    "X.head(), y.head()"
   ]
  },
  {
   "cell_type": "code",
   "execution_count": 26,
   "metadata": {},
   "outputs": [
    {
     "data": {
      "text/plain": [
       "(362858, 362858, 90715, 90715)"
      ]
     },
     "execution_count": 26,
     "metadata": {},
     "output_type": "execute_result"
    }
   ],
   "source": [
    "# Make train_test_split\n",
    "train_size = int(len(X)*0.8)\n",
    "X_train, y_train = X[:train_size], y[:train_size]\n",
    "X_test, y_test = X[train_size:], y[train_size:]\n",
    "len(X_train), len(y_train), len(X_test), len(y_test)"
   ]
  },
  {
   "cell_type": "code",
   "execution_count": 29,
   "metadata": {},
   "outputs": [],
   "source": [
    "import os\n",
    "\n",
    "# Create a function to implement a ModelCheckpoint callback with a specific filename\n",
    "def create_model_checkpoint(model_name, save_path='model_experiments'):\n",
    "  return tf.keras.callbacks.ModelCheckpoint(filepath=os.path.join(save_path, model_name),\n",
    "                                            verbose=0, # only output text when model is saved\n",
    "                                            monitor='val_loss',\n",
    "                                            save_best_only=True)"
   ]
  },
  {
   "cell_type": "code",
   "execution_count": 30,
   "metadata": {},
   "outputs": [
    {
     "name": "stdout",
     "output_type": "stream",
     "text": [
      "INFO:tensorflow:Assets written to: model_experiments\\baseline_model\\assets\n",
      "INFO:tensorflow:Assets written to: model_experiments\\baseline_model\\assets\n",
      "INFO:tensorflow:Assets written to: model_experiments\\baseline_model\\assets\n",
      "INFO:tensorflow:Assets written to: model_experiments\\baseline_model\\assets\n",
      "INFO:tensorflow:Assets written to: model_experiments\\baseline_model\\assets\n",
      "INFO:tensorflow:Assets written to: model_experiments\\baseline_model\\assets\n",
      "INFO:tensorflow:Assets written to: model_experiments\\baseline_model\\assets\n",
      "INFO:tensorflow:Assets written to: model_experiments\\baseline_model\\assets\n",
      "INFO:tensorflow:Assets written to: model_experiments\\baseline_model\\assets\n",
      "INFO:tensorflow:Assets written to: model_experiments\\baseline_model\\assets\n",
      "INFO:tensorflow:Assets written to: model_experiments\\baseline_model\\assets\n",
      "INFO:tensorflow:Assets written to: model_experiments\\baseline_model\\assets\n",
      "INFO:tensorflow:Assets written to: model_experiments\\baseline_model\\assets\n"
     ]
    },
    {
     "data": {
      "text/plain": [
       "<keras.callbacks.History at 0x26131d68d08>"
      ]
     },
     "execution_count": 30,
     "metadata": {},
     "output_type": "execute_result"
    }
   ],
   "source": [
    "# Build an MLP baseline model using tensorflow\n",
    "\n",
    "import tensorflow as tf\n",
    "from tensorflow.keras import layers\n",
    "\n",
    "model_1 = tf.keras.Sequential([\n",
    "    layers.Dense(256, activation='relu'),\n",
    "    layers.Dense(128, activation='relu'),\n",
    "    layers.Dense(64, activation='relu'),\n",
    "    layers.Dense(horizon)\n",
    "], name='baseline_model')\n",
    "\n",
    "model_1.compile(loss='mae', optimizer='adam')\n",
    "model_1.fit(X_train, y_train,\n",
    "            epochs=100,\n",
    "            validation_data=(X_test, y_test),\n",
    "            verbose=0,\n",
    "            callbacks=[create_model_checkpoint(model_name=model_1.name)])"
   ]
  },
  {
   "cell_type": "code",
   "execution_count": 31,
   "metadata": {},
   "outputs": [],
   "source": [
    "def evaluate_preds(y_true, y_pred):\n",
    "    y_true = tf.cast(y_true, dtype=tf.float32)\n",
    "    y_pred = tf.cast(y_pred, dtype=tf.float32)\n",
    "    \n",
    "    # Calculate metrics\n",
    "    mae = tf.keras.metrics.mean_absolute_error(y_true, y_pred)\n",
    "    mse = tf.keras.metrics.mean_squared_error(y_true, y_pred)\n",
    "    rmse = tf.sqrt(mse)\n",
    "    mape = tf.keras.metrics.mean_absolute_percentage_error(y_true, y_pred)\n",
    "    \n",
    "    return {'mae': mae.numpy(),\n",
    "            'mse': mse.numpy(),\n",
    "            'rmse': rmse.numpy(),\n",
    "            'mape': mape.numpy()}"
   ]
  },
  {
   "cell_type": "code",
   "execution_count": 32,
   "metadata": {},
   "outputs": [],
   "source": [
    "model_1 = tf.keras.models.load_model('model_experiments/baseline_model/')"
   ]
  },
  {
   "cell_type": "code",
   "execution_count": 33,
   "metadata": {},
   "outputs": [
    {
     "name": "stdout",
     "output_type": "stream",
     "text": [
      "2835/2835 [==============================] - 7s 2ms/step - loss: 1.2316e-04\n"
     ]
    },
    {
     "data": {
      "text/plain": [
       "0.0001231614878633991"
      ]
     },
     "execution_count": 33,
     "metadata": {},
     "output_type": "execute_result"
    }
   ],
   "source": [
    "model_1.evaluate(X_test, y_test)"
   ]
  },
  {
   "cell_type": "code",
   "execution_count": 34,
   "metadata": {},
   "outputs": [
    {
     "data": {
      "text/plain": [
       "<tf.Tensor: shape=(5,), dtype=float32, numpy=\n",
       "array([0.02694072, 0.0269377 , 0.02693159, 0.02690902, 0.02691715],\n",
       "      dtype=float32)>"
      ]
     },
     "execution_count": 34,
     "metadata": {},
     "output_type": "execute_result"
    }
   ],
   "source": [
    "model_1_preds = tf.squeeze(model_1.predict(X_test))\n",
    "model_1_preds[:5]"
   ]
  },
  {
   "cell_type": "code",
   "execution_count": 36,
   "metadata": {},
   "outputs": [
    {
     "data": {
      "text/plain": [
       "{'mae': 0.0001231614,\n",
       " 'mse': 3.7594226e-08,\n",
       " 'rmse': 0.00019389231,\n",
       " 'mape': 0.23426421}"
      ]
     },
     "execution_count": 36,
     "metadata": {},
     "output_type": "execute_result"
    }
   ],
   "source": [
    "evaluate_preds(y_test, model_1_preds)"
   ]
  },
  {
   "cell_type": "code",
   "execution_count": null,
   "metadata": {},
   "outputs": [],
   "source": []
  }
 ],
 "metadata": {
  "interpreter": {
   "hash": "ac3da779536756720bc930bbdcbe3b303a716c4190960bb8b007750e7b6b7c5d"
  },
  "kernelspec": {
   "display_name": "Python 3.7.6 64-bit",
   "language": "python",
   "name": "python3"
  },
  "language_info": {
   "codemirror_mode": {
    "name": "ipython",
    "version": 3
   },
   "file_extension": ".py",
   "mimetype": "text/x-python",
   "name": "python",
   "nbconvert_exporter": "python",
   "pygments_lexer": "ipython3",
   "version": "3.7.6"
  },
  "orig_nbformat": 4
 },
 "nbformat": 4,
 "nbformat_minor": 2
}
